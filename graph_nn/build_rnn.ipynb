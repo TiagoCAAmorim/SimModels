{
 "cells": [
  {
   "cell_type": "code",
   "execution_count": 2,
   "metadata": {},
   "outputs": [],
   "source": [
    "import numpy as np\n",
    "import pandas as pd\n",
    "import torch\n",
    "import torch.nn as nn\n",
    "import torch.nn.functional as F\n",
    "from torch.utils.data import Dataset, DataLoader\n",
    "\n",
    "from sklearn.model_selection import train_test_split\n",
    "import matplotlib.pyplot as plt"
   ]
  },
  {
   "cell_type": "code",
   "execution_count": 3,
   "metadata": {},
   "outputs": [
    {
     "name": "stdout",
     "output_type": "stream",
     "text": [
      "Using cuda device\n"
     ]
    }
   ],
   "source": [
    "device = (\n",
    "    \"cuda\"\n",
    "    if torch.cuda.is_available()\n",
    "    else \"mps\"\n",
    "    if torch.backends.mps.is_available()\n",
    "    else \"cpu\"\n",
    ")\n",
    "print(f\"Using {device} device\")"
   ]
  },
  {
   "cell_type": "markdown",
   "metadata": {},
   "source": [
    "## Leitura Dados"
   ]
  },
  {
   "cell_type": "code",
   "execution_count": 4,
   "metadata": {},
   "outputs": [],
   "source": [
    "X = pd.read_csv('./2d/sr3/X_train.csv').drop(columns=['index', 'Unnamed: 0'])\n",
    "y = pd.read_csv('./2d/sr3/y_train.csv').drop(columns=['index', 'Unnamed: 0'])\n",
    "\n",
    "X_train, X_val, y_train, y_val = train_test_split(\n",
    "    X, y, test_size=0.25, random_state=42)\n",
    "\n",
    "X_test = pd.read_csv('./2d_test/sr3/X_test.csv').drop(columns=['index', 'Unnamed: 0'])\n",
    "y_test = pd.read_csv('./2d_test/sr3/y_test.csv').drop(columns=['index', 'Unnamed: 0'])\n"
   ]
  },
  {
   "cell_type": "code",
   "execution_count": 5,
   "metadata": {},
   "outputs": [
    {
     "name": "stdout",
     "output_type": "stream",
     "text": [
      "Train: 9665\n",
      "Validation: 3222\n",
      "Test: 1315\n",
      "\n",
      "Input shape: (9665, 225)\n",
      "Output shape: (9665, 175)\n"
     ]
    }
   ],
   "source": [
    "print(f'Train: {len(X_train)}')\n",
    "print(f'Validation: {len(X_val)}')\n",
    "print(f'Test: {len(X_test)}')\n",
    "\n",
    "print('')\n",
    "print(f'Input shape: {X_train.shape}')\n",
    "print(f'Output shape: {y_train.shape}')"
   ]
  },
  {
   "cell_type": "code",
   "execution_count": 6,
   "metadata": {},
   "outputs": [],
   "source": [
    "def df2tensor(df, ni, nj):\n",
    "    t1 = torch.tensor(df.values)\n",
    "    t2 = torch.reshape(t1, (len(df), -1, ni, nj))\n",
    "    return t2.float()"
   ]
  },
  {
   "cell_type": "code",
   "execution_count": 7,
   "metadata": {},
   "outputs": [],
   "source": [
    "X_train_t = df2tensor(X_train, 5, 5)\n",
    "y_train_t = df2tensor(y_train, 5, 5)\n",
    "\n",
    "X_val_t = df2tensor(X_val, 5, 5)\n",
    "y_val_t = df2tensor(y_val, 5, 5)\n",
    "\n",
    "X_test_t = df2tensor(X_test, 5, 5)\n",
    "y_test_t = df2tensor(y_test, 5, 5)"
   ]
  },
  {
   "cell_type": "code",
   "execution_count": 8,
   "metadata": {},
   "outputs": [
    {
     "name": "stdout",
     "output_type": "stream",
     "text": [
      "Sample 2321\n",
      "Por\n",
      "tensor([[0.1200, 0.0730, 0.0860, 0.0820, 0.0900],\n",
      "        [0.1150, 0.0840, 0.0740, 0.0820, 0.0780],\n",
      "        [0.1050, 0.0960, 0.0900, 0.0800, 0.0710],\n",
      "        [0.1250, 0.1120, 0.1020, 0.0840, 0.0720],\n",
      "        [0.1380, 0.1150, 0.1160, 0.1040, 0.1000]])\n",
      "PermI\n",
      "tensor([[ 92.8000,  14.5000,  60.2000,  45.1000, 138.6000],\n",
      "        [ 45.7000,  13.1000,  12.5000,  41.6000,  43.4000],\n",
      "        [ 92.7000,  23.5000,  16.4000,  23.2000,  50.4000],\n",
      "        [156.3000,  59.4000,  61.2000,  21.4000,  28.1000],\n",
      "        [764.5000,  87.0000, 122.0000, 121.8000,  61.3000]])\n",
      "PermJ\n",
      "tensor([[ 84.2000,  19.5000,  62.5000,  66.9000, 133.5000],\n",
      "        [ 66.2000,  14.5000,  14.9000,  48.5000,  42.0000],\n",
      "        [100.7000,  21.3000,  20.4000,  28.9000,  52.4000],\n",
      "        [178.5000,  64.4000,  66.1000,  22.0000,  51.1000],\n",
      "        [850.2000, 127.1000, 136.3000, 143.5000,  70.4000]])\n",
      "Pres\n",
      "tensor([[331.7667, 354.7670, 377.7083, 388.1662, 392.5184],\n",
      "        [356.5207, 366.3973, 382.9688, 392.7301, 396.5556],\n",
      "        [376.3137, 382.4118, 392.5097, 399.3871, 404.2419],\n",
      "        [386.4504, 391.3504, 398.4313, 405.8448, 412.6969],\n",
      "        [389.2185, 393.7555, 401.7036, 409.5717, 420.8288]])\n",
      "Sw\n",
      "tensor([[0.2473, 0.1967, 0.2262, 0.2721, 0.2972],\n",
      "        [0.2839, 0.2289, 0.2653, 0.3161, 0.3551],\n",
      "        [0.3091, 0.2892, 0.3098, 0.3448, 0.3890],\n",
      "        [0.3277, 0.3395, 0.3606, 0.3753, 0.4189],\n",
      "        [0.3464, 0.3782, 0.4021, 0.4269, 0.4607]])\n",
      "Kro\n",
      "tensor([[0.1249, 0.2131, 0.1574, 0.0933, 0.0677],\n",
      "        [0.0805, 0.1530, 0.1012, 0.0524, 0.0291],\n",
      "        [0.0579, 0.0754, 0.0574, 0.0343, 0.0161],\n",
      "        [0.0445, 0.0370, 0.0264, 0.0206, 0.0087],\n",
      "        [0.0335, 0.0195, 0.0124, 0.0073, 0.0030]])\n",
      "Krw\n",
      "tensor([[0.0162, 0.0016, 0.0090, 0.0266, 0.0390],\n",
      "        [0.0322, 0.0098, 0.0235, 0.0495, 0.0741],\n",
      "        [0.0456, 0.0349, 0.0460, 0.0672, 0.0983],\n",
      "        [0.0565, 0.0638, 0.0777, 0.0882, 0.1216],\n",
      "        [0.0683, 0.0902, 0.1082, 0.1283, 0.1575]])\n",
      "Pwf\n",
      "tensor([[305.9149,   0.0000,   0.0000,   0.0000,   0.0000],\n",
      "        [  0.0000,   0.0000,   0.0000,   0.0000,   0.0000],\n",
      "        [  0.0000,   0.0000,   0.0000,   0.0000,   0.0000],\n",
      "        [  0.0000,   0.0000,   0.0000,   0.0000,   0.0000],\n",
      "        [  0.0000,   0.0000,   0.0000,   0.0000,   0.0000]])\n",
      "QwI\n",
      "tensor([[ 0.,  0.,  0.,  0.,  0.],\n",
      "        [ 0.,  0.,  0.,  0.,  0.],\n",
      "        [ 0.,  0.,  0.,  0.,  0.],\n",
      "        [ 0.,  0.,  0.,  0.,  0.],\n",
      "        [ 0.,  0.,  0.,  0., 30.]])\n"
     ]
    }
   ],
   "source": [
    "sample = int(np.random.random()*len(X_train_t))\n",
    "print(f'Sample {sample}')\n",
    "for i,c in enumerate([c[:-2] for c in X_train.columns if c[-2:]=='_0']):\n",
    "    print(c)\n",
    "    print(X_train_t[sample][i])"
   ]
  },
  {
   "cell_type": "code",
   "execution_count": 97,
   "metadata": {},
   "outputs": [],
   "source": [
    "AA = X_train_t.view(X_train_t.size(0), -1)\n",
    "# AA -= AA.min(1, keepdim=True)[0]\n",
    "# AA /= AA.max(1, keepdim=True)[0]\n",
    "# AA = AA.view(batch_size, height, width)"
   ]
  },
  {
   "cell_type": "code",
   "execution_count": 116,
   "metadata": {},
   "outputs": [],
   "source": [
    "AA = X_train_t.view(X_train_t.size(0), X_train_t.size(1), -1)\n",
    "min_values, _ = AA.min(dim=2, keepdim=True)"
   ]
  },
  {
   "cell_type": "code",
   "execution_count": 14,
   "metadata": {},
   "outputs": [
    {
     "name": "stdout",
     "output_type": "stream",
     "text": [
      "Min.values: tensor([0., 0., 0., 0., 0., 0., 0., 0., 0.])\n",
      "Max.values: tensor([2.3900e-01, 1.3911e+03, 1.4158e+03, 1.2237e+03, 5.6159e-01, 2.5000e-01,\n",
      "        2.5735e-01, 1.2237e+03, 3.5000e+01])\n"
     ]
    }
   ],
   "source": [
    "AA = torch.transpose(X_train_t, 0, 1)\n",
    "AA = AA.reshape(AA.size(0), -1)\n",
    "\n",
    "min_values, _ = AA.min(dim=1, keepdim=False)\n",
    "print(f'Min.values: {min_values}')\n",
    "\n",
    "max_values, _ = AA.max(dim=1, keepdim=False)\n",
    "print(f'Max.values: {max_values}')"
   ]
  },
  {
   "cell_type": "code",
   "execution_count": 15,
   "metadata": {},
   "outputs": [],
   "source": [
    "class CustomDataset(Dataset):\n",
    "    def __init__(self, X, y):\n",
    "        self.X = X\n",
    "        self.y = y\n",
    "\n",
    "    def __len__(self):\n",
    "        return len(self.X)\n",
    "\n",
    "    def __getitem__(self, idx):\n",
    "        sample = (\n",
    "            self.X[idx],\n",
    "            self.y[idx]\n",
    "        )\n",
    "        return sample"
   ]
  },
  {
   "cell_type": "code",
   "execution_count": 16,
   "metadata": {},
   "outputs": [],
   "source": [
    "data_train = CustomDataset(X_train_t, y_train_t)\n",
    "data_val = CustomDataset(X_val_t, y_val_t)\n",
    "data_test = CustomDataset(X_test_t, y_test_t)"
   ]
  },
  {
   "cell_type": "code",
   "execution_count": 17,
   "metadata": {},
   "outputs": [],
   "source": [
    "batch_size = 16\n",
    "dataloader_train = DataLoader(data_train, batch_size=batch_size, shuffle=True)\n",
    "dataloader_val = DataLoader(data_val, batch_size=batch_size, shuffle=False)\n",
    "dataloader_test = DataLoader(data_test, batch_size=batch_size, shuffle=False)"
   ]
  },
  {
   "cell_type": "code",
   "execution_count": 18,
   "metadata": {},
   "outputs": [
    {
     "name": "stdout",
     "output_type": "stream",
     "text": [
      "Input shape: torch.Size([16, 9, 5, 5])\n",
      "Output shape: torch.Size([16, 7, 5, 5])\n"
     ]
    }
   ],
   "source": [
    "for X,y in dataloader_val:\n",
    "    print(f'Input shape: {X.shape}')\n",
    "    print(f'Output shape: {y.shape}')\n",
    "    break"
   ]
  },
  {
   "cell_type": "markdown",
   "metadata": {},
   "source": [
    "## Neural Network"
   ]
  },
  {
   "cell_type": "code",
   "execution_count": 19,
   "metadata": {},
   "outputs": [],
   "source": [
    "class Network(nn.Module):\n",
    "\n",
    "    def __init__(self, input_size, output_size, latent_size, max_size, recurrences):\n",
    "        super(Network,self).__init__()\n",
    "        self.enc_1 = nn.Conv2d( input_size,  input_size, 1, padding=0)\n",
    "        self.enc_2 = nn.Conv2d( input_size, latent_size, 1, padding=0)\n",
    "        self.enc_3 = nn.Conv2d(latent_size, latent_size, 1, padding=0)\n",
    "\n",
    "        self.proc_1 = nn.Conv2d(latent_size, latent_size, 3, padding=1)\n",
    "        self.proc_2 = nn.Conv2d(latent_size,    max_size, 3, padding=1)\n",
    "        self.proc_3 = nn.Conv2d(   max_size,    max_size, 3, padding=1)\n",
    "        self.proc_4 = nn.Conv2d(   max_size, latent_size, 3, padding=1)\n",
    "\n",
    "        self.dec_1 = nn.Conv2d( latent_size, latent_size, 1, padding=0)\n",
    "        self.dec_2 = nn.Conv2d( latent_size, output_size, 1, padding=0)\n",
    "        self.dec_3 = nn.Conv2d( output_size, output_size, 1, padding=0)\n",
    "\n",
    "        self.recurrences = recurrences\n",
    "\n",
    "    def forward(self, x):\n",
    "        x = self.enc_1(x)\n",
    "        x = F.relu(x)\n",
    "        x = self.enc_2(x)\n",
    "        x = F.relu(x)\n",
    "        x = self.enc_3(x)\n",
    "        x = F.relu(x)\n",
    "\n",
    "        for _ in range(self.recurrences):\n",
    "            x = self.proc_1(x)\n",
    "            x = F.relu(x)\n",
    "            x = self.proc_2(x)\n",
    "            x = F.relu(x)\n",
    "            x = self.proc_3(x)\n",
    "            x = F.relu(x)\n",
    "            x = self.proc_4(x)\n",
    "            x = F.relu(x)\n",
    "\n",
    "        x = self.dec_1(x)\n",
    "        x = F.relu(x)\n",
    "        x = self.dec_2(x)\n",
    "        x = F.relu(x)\n",
    "        x = self.dec_3(x)\n",
    "        return x"
   ]
  },
  {
   "cell_type": "code",
   "execution_count": 20,
   "metadata": {},
   "outputs": [
    {
     "name": "stdout",
     "output_type": "stream",
     "text": [
      "Input: torch.Size([9665, 9, 5, 5])\n",
      "Result: torch.Size([9665, 7, 5, 5])\n",
      "Loss = 32205.75\n"
     ]
    }
   ],
   "source": [
    "model = Network(\n",
    "    input_size=9,\n",
    "    output_size=7,\n",
    "    latent_size=16,\n",
    "    max_size=32,\n",
    "    recurrences=5)\n",
    "\n",
    "some_data = X_train_t\n",
    "print(f'Input: {some_data.shape}')\n",
    "loss_fn = nn.MSELoss()\n",
    "result = model(some_data)\n",
    "print(f'Result: {result.shape}')\n",
    "\n",
    "loss = loss_fn(result, y_train_t)\n",
    "loss.backward()\n",
    "print(f'Loss = {loss:0.2f}')"
   ]
  },
  {
   "cell_type": "code",
   "execution_count": 21,
   "metadata": {},
   "outputs": [],
   "source": [
    "torch.onnx.export(model, X_test_t, 'test.onnx', input_names=[\"features\"], output_names=[\"results\"])\n",
    "# https://machinelearningmastery.com/visualizing-a-pytorch-model/\n",
    "# https://netron.app/"
   ]
  },
  {
   "cell_type": "code",
   "execution_count": 22,
   "metadata": {},
   "outputs": [
    {
     "name": "stdout",
     "output_type": "stream",
     "text": [
      "Layer: enc_1.weight | Parameters: 81\n",
      "Layer: enc_1.bias | Parameters: 9\n",
      "Layer: enc_2.weight | Parameters: 144\n",
      "Layer: enc_2.bias | Parameters: 16\n",
      "Layer: enc_3.weight | Parameters: 256\n",
      "Layer: enc_3.bias | Parameters: 16\n",
      "Layer: proc_1.weight | Parameters: 2304\n",
      "Layer: proc_1.bias | Parameters: 16\n",
      "Layer: proc_2.weight | Parameters: 4608\n",
      "Layer: proc_2.bias | Parameters: 32\n",
      "Layer: proc_3.weight | Parameters: 9216\n",
      "Layer: proc_3.bias | Parameters: 32\n",
      "Layer: proc_4.weight | Parameters: 4608\n",
      "Layer: proc_4.bias | Parameters: 16\n",
      "Layer: dec_1.weight | Parameters: 256\n",
      "Layer: dec_1.bias | Parameters: 16\n",
      "Layer: dec_2.weight | Parameters: 112\n",
      "Layer: dec_2.bias | Parameters: 7\n",
      "Layer: dec_3.weight | Parameters: 49\n",
      "Layer: dec_3.bias | Parameters: 7\n",
      "Total: 21801\n"
     ]
    }
   ],
   "source": [
    "total = 0\n",
    "for name, param in model.named_parameters():\n",
    "    print(f\"Layer: {name} | Parameters: {param.numel()}\")\n",
    "    total += param.numel()\n",
    "print(f'Total: {total}')"
   ]
  },
  {
   "cell_type": "markdown",
   "metadata": {},
   "source": [
    "## Ajuste"
   ]
  },
  {
   "cell_type": "code",
   "execution_count": 23,
   "metadata": {},
   "outputs": [],
   "source": [
    "def plot_losses(train_losses, val_losses):\n",
    "    plt.plot(range(1,len(train_losses)+1), train_losses, label='Train')\n",
    "    plt.plot(range(1,len(train_losses)+1), val_losses, label='Val')\n",
    "    plt.yscale(\"log\")\n",
    "    plt.xlabel(\"Epoch\")\n",
    "    plt.ylabel(\"RMSE\")\n",
    "    plt.title(\"Model Training\")\n",
    "    plt.legend()\n",
    "    plt.grid(True)\n",
    "    plt.show()"
   ]
  },
  {
   "cell_type": "code",
   "execution_count": 24,
   "metadata": {},
   "outputs": [],
   "source": [
    "def train_loop(dataloader, model, loss_fn, optimizer, verbose=False):\n",
    "    size = len(dataloader.dataset)\n",
    "    model.train()\n",
    "    losses = []\n",
    "    for batch, (X, y) in enumerate(dataloader):\n",
    "        optimizer.zero_grad()\n",
    "        pred = model(X)\n",
    "        loss = loss_fn(pred, y)\n",
    "        losses.append(loss)\n",
    "\n",
    "        loss.backward()\n",
    "        optimizer.step()\n",
    "\n",
    "        if verbose:\n",
    "            if batch % 100 == 0:\n",
    "                loss, current = loss.item(), batch * batch_size + len(X)\n",
    "                print(f\"loss: {loss:>7f}  [{current:>5d}/{size:>5d}]\")\n",
    "    return float(torch.tensor(losses).mean())\n",
    "\n",
    "def test_loop(dataloader, model, loss_fn):\n",
    "    model.eval()\n",
    "    num_batches = len(dataloader)\n",
    "    test_loss = 0\n",
    "\n",
    "    with torch.no_grad():\n",
    "        for X, y in dataloader:\n",
    "            pred = model(X)\n",
    "            test_loss += loss_fn(pred, y).item()\n",
    "\n",
    "    test_loss /= num_batches\n",
    "    return test_loss\n",
    "\n",
    "def train(model: Network,\n",
    "          train_dataloader: DataLoader,\n",
    "          val_dataloader: DataLoader,\n",
    "          epochs: int,\n",
    "          optimizer: torch.optim.Optimizer,\n",
    "          loss_fn: nn.Module,\n",
    "          file_name='model.pth',\n",
    "          verbose=False):\n",
    "\n",
    "    best_val = np.inf\n",
    "    train_loss = []\n",
    "    val_loss = []\n",
    "    print(\"=> Starting training\")\n",
    "    for t in range(epochs):\n",
    "        if verbose:\n",
    "            print(f\"Epoch {t+1}\\n-------------------------------\")\n",
    "        train_loss.append(train_loop(train_dataloader, model, loss_fn, optimizer, verbose))\n",
    "        val_loss.append(  test_loop(val_dataloader, model, loss_fn))\n",
    "        star = ''\n",
    "        if val_loss[-1] < best_val:\n",
    "            best_val = val_loss[-1]\n",
    "            torch.save(model, file_name)\n",
    "            star = '*'\n",
    "        print(f' {t + 1}: train = {train_loss[-1]:0.4g}, val = {val_loss[-1]:0.4g}{star}')\n",
    "    print(\"Done!\")\n",
    "    best_model = torch.load(file_name)\n",
    "    return best_model, (train_loss, val_loss)"
   ]
  },
  {
   "cell_type": "code",
   "execution_count": 25,
   "metadata": {},
   "outputs": [
    {
     "name": "stdout",
     "output_type": "stream",
     "text": [
      "=> Starting training\n",
      " 1: train = 2.937e+04, val = 2.406e+04*\n",
      " 2: train = 1.748e+04, val = 1.471e+04*\n",
      " 3: train = 1.368e+04, val = 1.281e+04*\n",
      " 4: train = 1.198e+04, val = 1.117e+04*\n",
      " 5: train = 1.041e+04, val = 9738*\n",
      " 6: train = 9154, val = 8621*\n",
      " 7: train = 8197, val = 7773*\n",
      " 8: train = 7482, val = 7089*\n",
      " 9: train = 6850, val = 6510*\n",
      " 10: train = 6338, val = 6624\n",
      " 11: train = 5907, val = 5587*\n",
      " 12: train = 5524, val = 5271*\n",
      " 13: train = 5078, val = 4814*\n",
      " 14: train = 4770, val = 4515*\n",
      " 15: train = 4438, val = 4277*\n",
      " 16: train = 4151, val = 3952*\n",
      " 17: train = 3897, val = 3655*\n",
      " 18: train = 3658, val = 3428*\n",
      " 19: train = 3454, val = 3292*\n",
      " 20: train = 3230, val = 3075*\n",
      " 21: train = 3069, val = 2851*\n",
      " 22: train = 2919, val = 2707*\n",
      " 23: train = 2731, val = 2595*\n",
      " 24: train = 2658, val = 2592*\n",
      " 25: train = 2502, val = 2327*\n",
      " 26: train = 2431, val = 2231*\n",
      " 27: train = 2342, val = 2189*\n",
      " 28: train = 2256, val = 2430\n",
      " 29: train = 2184, val = 2119*\n",
      " 30: train = 2119, val = 1975*\n",
      " 31: train = 2079, val = 1904*\n",
      " 32: train = 2028, val = 1860*\n",
      " 33: train = 1986, val = 1938\n",
      " 34: train = 1926, val = 1901\n",
      " 35: train = 1936, val = 1765*\n",
      " 36: train = 1924, val = 1733*\n",
      " 37: train = 1849, val = 1843\n",
      " 38: train = 1855, val = 1721*\n",
      " 39: train = 1824, val = 1702*\n",
      " 40: train = 1833, val = 1672*\n",
      " 41: train = 1756, val = 1707\n",
      " 42: train = 1796, val = 1650*\n",
      " 43: train = 1767, val = 1634*\n",
      " 44: train = 1741, val = 1595*\n",
      " 45: train = 1722, val = 1644\n",
      " 46: train = 1704, val = 1552*\n",
      " 47: train = 1697, val = 1542*\n",
      " 48: train = 1698, val = 1537*\n",
      " 49: train = 1660, val = 1527*\n",
      " 50: train = 1637, val = 1514*\n",
      "Done!\n"
     ]
    },
    {
     "data": {
      "image/png": "[encoded data removed]",
      "text/plain": [
       "<Figure size 640x480 with 1 Axes>"
      ]
     },
     "metadata": {},
     "output_type": "display_data"
    },
    {
     "name": "stdout",
     "output_type": "stream",
     "text": [
      "Test loss = 3266 (last model)\n",
      "Test loss = 3266 (best model)\n"
     ]
    }
   ],
   "source": [
    "model = Network(\n",
    "    input_size=9,\n",
    "    output_size=7,\n",
    "    latent_size=16,\n",
    "    max_size=32,\n",
    "    recurrences=2)\n",
    "loss_fn = nn.MSELoss()\n",
    "\n",
    "batch_size = 256\n",
    "dataloader_train = DataLoader(data_train, batch_size=batch_size, shuffle=True)\n",
    "dataloader_val = DataLoader(data_val, batch_size=len(data_val), shuffle=False)\n",
    "dataloader_test = DataLoader(data_test, batch_size=batch_size, shuffle=False)\n",
    "\n",
    "epochs = 500\n",
    "optimizer = torch.optim.RMSprop(model.parameters(), lr = 0.0001)  # ok\n",
    "# optimizer = torch.optim.SGD(model.parameters(), lr=0.0001)\n",
    "# optimizer = torch.optim.SGD(model.parameters(), lr=0.0001, momentum=0.5)\n",
    "# optimizer = torch.optim.Adam(model.parameters(), lr=0.0001)  # ok\n",
    "# optimizer = torch.optim.Adagrad(model.parameters(), lr=0.0001)\n",
    "# optimizer = torch.optim.Adadelta(model.parameters(), lr=0.0001)\n",
    "# optimizer = torch.optim.Adamax(model.parameters(), lr=0.0001)  # ok\n",
    "# optimizer = torch.optim.ASGD(model.parameters(), lr=0.0001)\n",
    "# optimizer = torch.optim.NAdam(model.parameters(), lr=0.0001)  # ok\n",
    "\n",
    "best_model, (train_loss, val_loss) = train(model, dataloader_train, dataloader_val, epochs, optimizer, loss_fn)\n",
    "\n",
    "plot_losses(train_loss, val_loss)\n",
    "\n",
    "test_loss = test_loop(dataloader_test, model, loss_fn)\n",
    "print(f'Test loss = {test_loss:0.4g} (last model)')\n",
    "test_loss = test_loop(dataloader_test, best_model, loss_fn)\n",
    "print(f'Test loss = {test_loss:0.4g} (best model)')"
   ]
  },
  {
   "cell_type": "code",
   "execution_count": null,
   "metadata": {},
   "outputs": [],
   "source": []
  }
 ],
 "metadata": {
  "kernelspec": {
   "display_name": "Python 3",
   "language": "python",
   "name": "python3"
  },
  "language_info": {
   "codemirror_mode": {
    "name": "ipython",
    "version": 3
   },
   "file_extension": ".py",
   "mimetype": "text/x-python",
   "name": "python",
   "nbconvert_exporter": "python",
   "pygments_lexer": "ipython3",
   "version": "3.12.2"
  }
 },
 "nbformat": 4,
 "nbformat_minor": 0
}
