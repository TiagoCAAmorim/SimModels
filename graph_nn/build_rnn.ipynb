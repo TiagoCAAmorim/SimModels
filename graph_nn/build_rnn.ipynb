{
 "cells": [
  {
   "cell_type": "code",
   "execution_count": 1,
   "metadata": {},
   "outputs": [],
   "source": [
    "import numpy as np\n",
    "import pandas as pd\n",
    "import torch\n",
    "import torch.nn as nn\n",
    "import torch.nn.functional as F\n",
    "from torch.utils.data import Dataset, DataLoader\n",
    "\n",
    "from sklearn.model_selection import train_test_split\n"
   ]
  },
  {
   "cell_type": "code",
   "execution_count": 2,
   "metadata": {},
   "outputs": [
    {
     "name": "stdout",
     "output_type": "stream",
     "text": [
      "Using cuda device\n"
     ]
    }
   ],
   "source": [
    "device = (\n",
    "    \"cuda\"\n",
    "    if torch.cuda.is_available()\n",
    "    else \"mps\"\n",
    "    if torch.backends.mps.is_available()\n",
    "    else \"cpu\"\n",
    ")\n",
    "print(f\"Using {device} device\")"
   ]
  },
  {
   "cell_type": "markdown",
   "metadata": {},
   "source": [
    "## Leitura Dados"
   ]
  },
  {
   "cell_type": "code",
   "execution_count": 3,
   "metadata": {},
   "outputs": [],
   "source": [
    "X = pd.read_csv('./2d/sr3/X_train.csv').drop(columns=['index', 'Unnamed: 0'])\n",
    "y = pd.read_csv('./2d/sr3/y_train.csv').drop(columns=['index', 'Unnamed: 0'])\n",
    "\n",
    "X_train, X_val, y_train, y_val = train_test_split(\n",
    "    X, y, test_size=0.25, random_state=42)\n",
    "\n",
    "X_test = pd.read_csv('./2d_test/sr3/X_test.csv').drop(columns=['index', 'Unnamed: 0'])\n",
    "y_test = pd.read_csv('./2d_test/sr3/y_test.csv').drop(columns=['index', 'Unnamed: 0'])\n"
   ]
  },
  {
   "cell_type": "code",
   "execution_count": 9,
   "metadata": {},
   "outputs": [
    {
     "name": "stdout",
     "output_type": "stream",
     "text": [
      "Train: 9665\n",
      "Validation: 3222\n",
      "Test: 1315\n",
      "\n",
      "Input shape: (9665, 225)\n",
      "Output shape: (9665, 175)\n"
     ]
    }
   ],
   "source": [
    "print(f'Train: {len(X_train)}')\n",
    "print(f'Validation: {len(X_val)}')\n",
    "print(f'Test: {len(X_test)}')\n",
    "\n",
    "print('')\n",
    "print(f'Input shape: {X_train.shape}')\n",
    "print(f'Output shape: {y_train.shape}')"
   ]
  },
  {
   "cell_type": "code",
   "execution_count": 19,
   "metadata": {},
   "outputs": [],
   "source": [
    "def df2tensor(df, ni, nj):\n",
    "    t1 = torch.tensor(df.values)\n",
    "    t2 = torch.reshape(t1, (len(df), -1, ni, nj))\n",
    "    return t2.float()"
   ]
  },
  {
   "cell_type": "code",
   "execution_count": 21,
   "metadata": {},
   "outputs": [],
   "source": [
    "X_train_t = df2tensor(X_train, 5, 5)\n",
    "y_train_t = df2tensor(y_train, 5, 5)\n",
    "\n",
    "X_val_t = df2tensor(X_val, 5, 5)\n",
    "y_val_t = df2tensor(y_val, 5, 5)\n",
    "\n",
    "X_test_t = df2tensor(X_test, 5, 5)\n",
    "y_test_t = df2tensor(y_test, 5, 5)"
   ]
  },
  {
   "cell_type": "code",
   "execution_count": 36,
   "metadata": {},
   "outputs": [],
   "source": [
    "class CustomDataset(Dataset):\n",
    "    def __init__(self, X, y):\n",
    "        self.X = X\n",
    "        self.y = y\n",
    "\n",
    "    def __len__(self):\n",
    "        return len(self.X)\n",
    "\n",
    "    def __getitem__(self, idx):\n",
    "        sample = {\n",
    "            'X': self.X[idx],\n",
    "            'y': self.y[idx]\n",
    "        }\n",
    "        return sample"
   ]
  },
  {
   "cell_type": "code",
   "execution_count": 37,
   "metadata": {},
   "outputs": [],
   "source": [
    "data_train = CustomDataset(X_train_t, y_train_t)\n",
    "data_val = CustomDataset(X_val_t, y_val_t)\n",
    "data_test = CustomDataset(X_test_t, y_test_t)"
   ]
  },
  {
   "cell_type": "code",
   "execution_count": 38,
   "metadata": {},
   "outputs": [],
   "source": [
    "batch_size = 16  # Tamanho do lote\n",
    "dataloader_train = DataLoader(data_train, batch_size=batch_size, shuffle=True)\n",
    "dataloader_val = DataLoader(data_val, batch_size=batch_size, shuffle=False)\n",
    "dataloader_test = DataLoader(data_test, batch_size=batch_size, shuffle=False)"
   ]
  },
  {
   "cell_type": "code",
   "execution_count": 42,
   "metadata": {},
   "outputs": [
    {
     "name": "stdout",
     "output_type": "stream",
     "text": [
      "Input shape: torch.Size([16, 9, 5, 5])\n",
      "Output shape: torch.Size([16, 7, 5, 5])\n"
     ]
    }
   ],
   "source": [
    "for i in dataloader_val:\n",
    "    X = i['X']\n",
    "    y = i['y']\n",
    "    print(f'Input shape: {X.shape}')\n",
    "    print(f'Output shape: {y.shape}')\n",
    "    break"
   ]
  },
  {
   "cell_type": "markdown",
   "metadata": {},
   "source": [
    "## Neural Network"
   ]
  },
  {
   "cell_type": "code",
   "execution_count": 13,
   "metadata": {},
   "outputs": [],
   "source": [
    "class Net(nn.Module):\n",
    "    def __init__(self, input_size, inter_size, output_size, recurrences, ni, nj):\n",
    "        super(Net, self).__init__()\n",
    "\n",
    "        self.input_size = input_size\n",
    "        self.recurrences = recurrences\n",
    "        self.ni = ni\n",
    "        self.nj = nj\n",
    "\n",
    "        self.zeros = torch.zeros((input_size,)).unsqueeze(0)\n",
    "\n",
    "        # Pre-nn layers (data from 2 cells)\n",
    "        self.pre1 = nn.Linear(2*input_size, 4*input_size)\n",
    "        self.pre2 = nn.Linear(4*input_size, 4*input_size)\n",
    "        self.pre3 = nn.Linear(4*input_size, inter_size)\n",
    "        self.dropout1 = nn.Dropout(0.25)\n",
    "\n",
    "        # Combined layers (data from 4 Pre-nn)\n",
    "        self.main1 = nn.Linear(4*inter_size, 8*inter_size)\n",
    "        self.main2 = nn.Linear(8*inter_size, 8*inter_size)\n",
    "        self.main3 = nn.Linear(8*inter_size, output_size)\n",
    "        self.dropout2 = nn.Dropout(0.25)\n",
    "\n",
    "    def forward(self, x):\n",
    "\n",
    "        def _get_neighbours_index(n):\n",
    "\n",
    "            def _get_cell_n(i,j):\n",
    "                if i<0 or i>=self.ni or j<0 or j>=self.nj:\n",
    "                    return -1\n",
    "                return (j - 1) * self.ni + i - 1\n",
    "\n",
    "            j = int(n / self.ni) + 1\n",
    "            i = n - (j - 1) * self.ni + 1\n",
    "            out = [\n",
    "                _get_cell_n(i-1,j),\n",
    "                _get_cell_n(i+1,j),\n",
    "                _get_cell_n(i,j-1),\n",
    "                _get_cell_n(i,j+1),\n",
    "            ]\n",
    "            return out\n",
    "\n",
    "        def _pre_nn(x):\n",
    "            x = torch.flatten(x)\n",
    "            x = self.pre1(x)\n",
    "            x = F.relu(x)\n",
    "            x = self.pre2(x)\n",
    "            x = F.relu(x)\n",
    "            x = self.dropout1(x)\n",
    "            x = self.pre3(x)\n",
    "            x = F.relu(x)\n",
    "            return x\n",
    "\n",
    "        def _main_nn(x):\n",
    "            x = torch.flatten(x)\n",
    "            x = self.main1(x)\n",
    "            x = F.relu(x)\n",
    "            x = self.main2(x)\n",
    "            x = F.relu(x)\n",
    "            x = self.dropout2(x)\n",
    "            x = self.main3(x)\n",
    "            return x\n",
    "\n",
    "        for r in range(self.recurrences):\n",
    "            y_main = []\n",
    "            for n,x_ in enumerate(x):\n",
    "                v = _get_neighbours_index(n)\n",
    "                y_pre = []\n",
    "                for (v_, k) in zip(v,[2,2,1,1]):\n",
    "                    if v_ < 0:\n",
    "                        x_cat = torch.cat([x_.unsqueeze(0),torch.zeros_like(x_).unsqueeze(0)], dim=0)\n",
    "                    else:\n",
    "                        x_cat = torch.cat([x_.unsqueeze(0),x[v_].unsqueeze(0)], dim=0)\n",
    "                    # x_cat[0,k] = 0\n",
    "                    # x_cat[1,k] = 0\n",
    "                    y_pre_ = _pre_nn(x_cat)\n",
    "                    y_pre.append(y_pre_.unsqueeze(0))\n",
    "                x_inter = torch.cat(y_pre, dim=0)\n",
    "                y_main_ = _main_nn(x_inter)\n",
    "                y_main.append(y_main_)\n",
    "            for n,_ in enumerate(x):\n",
    "                for i in range(4):\n",
    "                    x[n][i+3] = y_main[n][i]\n",
    "\n",
    "        output = torch.cat(y_main, dim=0)\n",
    "        output = torch.reshape(output, (self.ni*self.nj, -1))\n",
    "\n",
    "        return output\n"
   ]
  },
  {
   "cell_type": "code",
   "execution_count": null,
   "metadata": {},
   "outputs": [],
   "source": []
  },
  {
   "cell_type": "code",
   "execution_count": 62,
   "metadata": {},
   "outputs": [],
   "source": [
    "class Network(nn.Module):\n",
    "\n",
    "    def __init__(self, input_size, output_size, latent_size, max_size, recurrences):\n",
    "        super(Network,self).__init__()\n",
    "        self.enc_1 = nn.Conv2d( input_size,  input_size, 1, padding=0)\n",
    "        self.enc_2 = nn.Conv2d( input_size, latent_size, 1, padding=0)\n",
    "        self.enc_3 = nn.Conv2d(latent_size, latent_size, 1, padding=0)\n",
    "\n",
    "        self.proc_1 = nn.Conv2d(latent_size, latent_size, 3, padding=1)\n",
    "        self.proc_2 = nn.Conv2d(latent_size,    max_size, 3, padding=1)\n",
    "        self.proc_3 = nn.Conv2d(   max_size,    max_size, 3, padding=1)\n",
    "        self.proc_4 = nn.Conv2d(   max_size, latent_size, 3, padding=1)\n",
    "\n",
    "        self.dec_1 = nn.Conv2d( latent_size, latent_size, 1, padding=0)\n",
    "        self.dec_2 = nn.Conv2d( latent_size, output_size, 1, padding=0)\n",
    "        self.dec_3 = nn.Conv2d( output_size, output_size, 1, padding=0)\n",
    "\n",
    "        self.recurrences = recurrences\n",
    "\n",
    "    def forward(self, x):\n",
    "        x = self.enc_1(x)\n",
    "        x = F.relu(x)\n",
    "        x = self.enc_2(x)\n",
    "        x = F.relu(x)\n",
    "        x = self.enc_3(x)\n",
    "        x = F.relu(x)\n",
    "\n",
    "        for _ in range(self.recurrences):\n",
    "            x = self.proc_1(x)\n",
    "            x = F.relu(x)\n",
    "            x = self.proc_2(x)\n",
    "            x = F.relu(x)\n",
    "            x = self.proc_3(x)\n",
    "            x = F.relu(x)\n",
    "            x = self.proc_4(x)\n",
    "            x = F.relu(x)\n",
    "\n",
    "        x = self.dec_1(x)\n",
    "        x = F.relu(x)\n",
    "        x = self.dec_2(x)\n",
    "        x = F.relu(x)\n",
    "        x = self.dec_3(x)\n",
    "        return x"
   ]
  },
  {
   "cell_type": "code",
   "execution_count": 90,
   "metadata": {},
   "outputs": [
    {
     "name": "stdout",
     "output_type": "stream",
     "text": [
      "torch.Size([9665, 9, 5, 5])\n",
      "torch.Size([9665, 7, 5, 5])\n",
      "Loss = 27238.05859375\n"
     ]
    }
   ],
   "source": [
    "model = Network(\n",
    "    input_size=9,\n",
    "    output_size=7,\n",
    "    latent_size=16,\n",
    "    max_size=32,\n",
    "    recurrences=5)\n",
    "\n",
    "# model.train()\n",
    "# model.zero_grad()\n",
    "\n",
    "some_data = X_train_t\n",
    "print(some_data.shape)\n",
    "loss_fn = nn.MSELoss()\n",
    "result = model(some_data)\n",
    "print(result.shape)\n",
    "\n",
    "loss = loss_fn(result, y_train_t)\n",
    "loss.backward()\n",
    "print(f'Loss = {loss}')"
   ]
  },
  {
   "cell_type": "code",
   "execution_count": 78,
   "metadata": {},
   "outputs": [],
   "source": [
    "torch.onnx.export(model, X_test_t, 'test.onnx', input_names=[\"features\"], output_names=[\"results\"])\n",
    "# https://machinelearningmastery.com/visualizing-a-pytorch-model/\n",
    "# https://netron.app/"
   ]
  },
  {
   "cell_type": "code",
   "execution_count": 79,
   "metadata": {},
   "outputs": [
    {
     "name": "stdout",
     "output_type": "stream",
     "text": [
      "Layer: enc_1.weight | Parameters: 81\n",
      "Layer: enc_1.bias | Parameters: 9\n",
      "Layer: enc_2.weight | Parameters: 144\n",
      "Layer: enc_2.bias | Parameters: 16\n",
      "Layer: enc_3.weight | Parameters: 256\n",
      "Layer: enc_3.bias | Parameters: 16\n",
      "Layer: proc_1.weight | Parameters: 2304\n",
      "Layer: proc_1.bias | Parameters: 16\n",
      "Layer: proc_2.weight | Parameters: 4608\n",
      "Layer: proc_2.bias | Parameters: 32\n",
      "Layer: proc_3.weight | Parameters: 9216\n",
      "Layer: proc_3.bias | Parameters: 32\n",
      "Layer: proc_4.weight | Parameters: 4608\n",
      "Layer: proc_4.bias | Parameters: 16\n",
      "Layer: dec_1.weight | Parameters: 256\n",
      "Layer: dec_1.bias | Parameters: 16\n",
      "Layer: dec_2.weight | Parameters: 112\n",
      "Layer: dec_2.bias | Parameters: 7\n",
      "Layer: dec_3.weight | Parameters: 49\n",
      "Layer: dec_3.bias | Parameters: 7\n",
      "Total: 21801\n"
     ]
    }
   ],
   "source": [
    "total = 0\n",
    "for name, param in model.named_parameters():\n",
    "    print(f\"Layer: {name} | Parameters: {param.numel()}\")\n",
    "    total += param.numel()\n",
    "print(f'Total: {total}')"
   ]
  },
  {
   "cell_type": "code",
   "execution_count": 82,
   "metadata": {},
   "outputs": [],
   "source": [
    "# optimizer = torch.optim.SGD(model.parameters(), lr=0.001, momentum=0.9)\n",
    "\n",
    "# learning_rate = 0.005\n",
    "# def train(output, input):\n",
    "#     # hidden = rnn.initHidden()\n",
    "#     model.zero_grad()\n",
    "\n",
    "#     for i in range(line_tensor.size()[0]):\n",
    "#         output, hidden = rnn(line_tensor[i], hidden)\n",
    "\n",
    "#     loss = criterion(output, category_tensor)\n",
    "#     loss.backward()\n",
    "\n",
    "#     # Add parameters' gradients to their values, multiplied by learning rate\n",
    "#     for p in rnn.parameters():\n",
    "#         p.data.add_(p.grad.data, alpha=-learning_rate)\n",
    "\n",
    "#     return output, loss.item()\n"
   ]
  },
  {
   "cell_type": "markdown",
   "metadata": {},
   "source": [
    "## Ajuste"
   ]
  },
  {
   "cell_type": "code",
   "execution_count": null,
   "metadata": {},
   "outputs": [],
   "source": [
    "model = Network(\n",
    "    input_size=9,\n",
    "    output_size=7,\n",
    "    latent_size=16,\n",
    "    max_size=32,\n",
    "    recurrences=5)\n",
    "\n",
    "# model.train()\n",
    "# model.zero_grad()\n",
    "\n",
    "some_data = X_train_t\n",
    "print(some_data.shape)\n",
    "loss_fn = nn.MSELoss()\n",
    "result = model(some_data)\n",
    "print(result.shape)\n",
    "\n",
    "loss = loss_fn(result, y_train_t)\n",
    "loss.backward()\n",
    "print(f'Loss = {loss}')"
   ]
  },
  {
   "cell_type": "code",
   "execution_count": 105,
   "metadata": {},
   "outputs": [
    {
     "name": "stdout",
     "output_type": "stream",
     "text": [
      "=> Starting training\n",
      "=> epoch: 1, loss: 101.63243865966797\n",
      "=> epoch: 2, loss: 33.56476974487305\n",
      "=> epoch: 3, loss: 20.32417106628418\n",
      "=> epoch: 4, loss: 17.708641052246094\n",
      "=> epoch: 5, loss: 13.943422317504883\n",
      "=> epoch: 6, loss: 22.669116973876953\n",
      "=> epoch: 7, loss: 7.661808967590332\n",
      "=> epoch: 8, loss: 18.485107421875\n",
      "=> epoch: 9, loss: 6.883718490600586\n",
      "=> epoch: 10, loss: 5.374276638031006\n",
      "=> epoch: 11, loss: 5.388774871826172\n",
      "=> epoch: 12, loss: 5.125740051269531\n",
      "=> epoch: 13, loss: 4.190708637237549\n",
      "=> epoch: 14, loss: 4.80820894241333\n",
      "=> epoch: 15, loss: 3.5461394786834717\n",
      "=> epoch: 16, loss: 4.17889404296875\n",
      "=> epoch: 17, loss: 3.066729784011841\n",
      "=> epoch: 18, loss: 3.331594467163086\n",
      "=> epoch: 19, loss: 3.639996290206909\n",
      "=> epoch: 20, loss: 5.628592014312744\n",
      "=> epoch: 21, loss: 3.263745069503784\n",
      "=> epoch: 22, loss: 2.925410032272339\n",
      "=> epoch: 23, loss: 3.0521047115325928\n",
      "=> epoch: 24, loss: 3.789151668548584\n",
      "=> epoch: 25, loss: 2.7136430740356445\n",
      "=> epoch: 26, loss: 3.3775827884674072\n",
      "=> epoch: 27, loss: 2.437741756439209\n",
      "=> epoch: 28, loss: 2.2449989318847656\n",
      "=> epoch: 29, loss: 2.7226526737213135\n",
      "=> epoch: 30, loss: 2.185770034790039\n",
      "=> epoch: 31, loss: 2.96457839012146\n",
      "=> epoch: 32, loss: 2.07368803024292\n",
      "=> epoch: 33, loss: 2.8237898349761963\n",
      "=> epoch: 34, loss: 1.883431077003479\n",
      "=> epoch: 35, loss: 1.841513991355896\n",
      "=> epoch: 36, loss: 2.2667860984802246\n",
      "=> epoch: 37, loss: 1.8049219846725464\n",
      "=> epoch: 38, loss: 2.630073070526123\n",
      "=> epoch: 39, loss: 3.9331161975860596\n",
      "=> epoch: 40, loss: 1.8630794286727905\n",
      "=> epoch: 41, loss: 1.9586551189422607\n",
      "=> epoch: 42, loss: 1.6487003564834595\n",
      "=> epoch: 43, loss: 1.8703440427780151\n",
      "=> epoch: 44, loss: 1.5953041315078735\n",
      "=> epoch: 45, loss: 2.347170829772949\n",
      "=> epoch: 46, loss: 1.8352901935577393\n",
      "=> epoch: 47, loss: 1.5393339395523071\n",
      "=> epoch: 48, loss: 1.8670421838760376\n",
      "=> epoch: 49, loss: 2.185116767883301\n",
      "=> epoch: 50, loss: 1.602649450302124\n",
      "=> epoch: 51, loss: 1.693786859512329\n",
      "=> epoch: 52, loss: 1.3106544017791748\n",
      "=> epoch: 53, loss: 1.666590929031372\n",
      "=> epoch: 54, loss: 1.7440258264541626\n",
      "=> epoch: 55, loss: 1.5608713626861572\n",
      "=> epoch: 56, loss: 1.7096742391586304\n",
      "=> epoch: 57, loss: 2.3721091747283936\n",
      "=> epoch: 58, loss: 1.7220103740692139\n",
      "=> epoch: 59, loss: 3.3266401290893555\n",
      "=> epoch: 60, loss: 2.0194597244262695\n",
      "=> epoch: 61, loss: 1.4271141290664673\n",
      "=> epoch: 62, loss: 1.6005887985229492\n",
      "=> epoch: 63, loss: 1.52436363697052\n",
      "=> epoch: 64, loss: 1.6224504709243774\n",
      "=> epoch: 65, loss: 1.3505656719207764\n",
      "=> epoch: 66, loss: 1.2275949716567993\n",
      "=> epoch: 67, loss: 1.6312274932861328\n",
      "=> epoch: 68, loss: 3.9179909229278564\n",
      "=> epoch: 69, loss: 1.3271942138671875\n",
      "=> epoch: 70, loss: 1.2330538034439087\n",
      "=> epoch: 71, loss: 3.730268716812134\n",
      "=> epoch: 72, loss: 1.2801930904388428\n",
      "=> epoch: 73, loss: 1.3536843061447144\n",
      "=> epoch: 74, loss: 1.2485889196395874\n",
      "=> epoch: 75, loss: 1.3830046653747559\n",
      "=> epoch: 76, loss: 1.190962553024292\n",
      "=> epoch: 77, loss: 2.7203474044799805\n",
      "=> epoch: 78, loss: 1.216750979423523\n",
      "=> epoch: 79, loss: 19.635501861572266\n",
      "=> epoch: 80, loss: 1.725775122642517\n",
      "=> epoch: 81, loss: 1.0104405879974365\n",
      "=> epoch: 82, loss: 1.307215929031372\n",
      "=> epoch: 83, loss: 1.7158504724502563\n",
      "=> epoch: 84, loss: 2.220273017883301\n",
      "=> epoch: 85, loss: 1.4224482774734497\n",
      "=> epoch: 86, loss: 0.9981598854064941\n",
      "=> epoch: 87, loss: 1.1441152095794678\n",
      "=> epoch: 88, loss: 1.186020016670227\n",
      "=> epoch: 89, loss: 1.0999165773391724\n",
      "=> epoch: 90, loss: 1.1885480880737305\n",
      "=> epoch: 91, loss: 3.7559449672698975\n",
      "=> epoch: 92, loss: 1.2890499830245972\n",
      "=> epoch: 93, loss: 1.2840927839279175\n",
      "=> epoch: 94, loss: 1.4400895833969116\n",
      "=> epoch: 95, loss: 1.5546314716339111\n",
      "=> epoch: 96, loss: 1.6277382373809814\n",
      "=> epoch: 97, loss: 1.124985694885254\n",
      "=> epoch: 98, loss: 0.9402422904968262\n",
      "=> epoch: 99, loss: 4.449398994445801\n",
      "=> epoch: 100, loss: 0.9515842795372009\n"
     ]
    }
   ],
   "source": [
    "def train(model: Network,\n",
    "          data: DataLoader,\n",
    "          epochs: int,\n",
    "          optimizer: torch.optim.Optimizer,\n",
    "          loss_fn: nn.Module) -> None:\n",
    "    train_losses = {}\n",
    "    # model.to(device)\n",
    "\n",
    "    model.train()\n",
    "    print(\"=> Starting training\")\n",
    "    for epoch in range(epochs):\n",
    "        epoch_losses = list()\n",
    "        for data_ in data:\n",
    "            X = data_['X']\n",
    "            y = data_['y']\n",
    "\n",
    "            # if X.shape[0] != data.batch_size:\n",
    "            #     continue\n",
    "            # X, Y, hidden = X.to(device), Y.to(device), hidden.to(device)\n",
    "\n",
    "            out = model(X)\n",
    "            loss = loss_fn(out, y)\n",
    "\n",
    "            model.zero_grad()\n",
    "            # loss.backward(retain_graph=True)\n",
    "            loss.backward()\n",
    "\n",
    "            # nn.utils.clip_grad_norm_(model.parameters(), 3)\n",
    "            optimizer.step()\n",
    "\n",
    "            epoch_losses.append(loss.detach().item() / X.shape[0])\n",
    "            # print(epoch_losses[-1])\n",
    "            # if epoch_losses[-1] > 1E20:\n",
    "            #     break\n",
    "\n",
    "        train_losses[epoch] = torch.tensor(epoch_losses).mean()\n",
    "        print(f'=> epoch: {epoch + 1}, loss: {train_losses[epoch]}')\n",
    "        # print(generate_text(model, data.dataset))\n",
    "\n",
    "model = Network(\n",
    "    input_size=9,\n",
    "    output_size=7,\n",
    "    latent_size=16,\n",
    "    max_size=32,\n",
    "    recurrences=1)\n",
    "loss_fn = nn.MSELoss()\n",
    "\n",
    "batch_size = 64  # Tamanho do lote\n",
    "dataloader_train = DataLoader(data_train, batch_size=batch_size, shuffle=True)\n",
    "dataloader_val = DataLoader(data_val, batch_size=batch_size, shuffle=False)\n",
    "dataloader_test = DataLoader(data_test, batch_size=batch_size, shuffle=False)\n",
    "\n",
    "epochs = 10\n",
    "optimizer = torch.optim.RMSprop(model.parameters(), lr = 0.001)\n",
    "# optimizer = torch.optim.SGD(model.parameters(), lr=0.0001, momentum=0.9)\n",
    "\n",
    "train(model, dataloader_train, epochs, optimizer, loss_fn)"
   ]
  },
  {
   "cell_type": "code",
   "execution_count": null,
   "metadata": {},
   "outputs": [],
   "source": []
  },
  {
   "cell_type": "code",
   "execution_count": null,
   "metadata": {},
   "outputs": [],
   "source": [
    "def train_one_epoch(epoch_index, tb_writer):\n",
    "    running_loss = 0.\n",
    "    last_loss = 0.\n",
    "\n",
    "    # Here, we use enumerate(training_loader) instead of\n",
    "    # iter(training_loader) so that we can track the batch\n",
    "    # index and do some intra-epoch reporting\n",
    "    for i, data in enumerate(training_loader):\n",
    "        # Every data instance is an input + label pair\n",
    "        inputs, labels = data\n",
    "\n",
    "        # Zero your gradients for every batch!\n",
    "        optimizer.zero_grad()\n",
    "\n",
    "        # Make predictions for this batch\n",
    "        outputs = model(inputs)\n",
    "\n",
    "        # Compute the loss and its gradients\n",
    "        loss = loss_fn(outputs, labels)\n",
    "        loss.backward()\n",
    "\n",
    "        # Adjust learning weights\n",
    "        optimizer.step()\n",
    "\n",
    "        # Gather data and report\n",
    "        running_loss += loss.item()\n",
    "        if i % 1000 == 999:\n",
    "            last_loss = running_loss / 1000 # loss per batch\n",
    "            print('  batch {} loss: {}'.format(i + 1, last_loss))\n",
    "            tb_x = epoch_index * len(training_loader) + i + 1\n",
    "            tb_writer.add_scalar('Loss/train', last_loss, tb_x)\n",
    "            running_loss = 0.\n",
    "\n",
    "    return last_loss"
   ]
  },
  {
   "cell_type": "code",
   "execution_count": null,
   "metadata": {},
   "outputs": [],
   "source": [
    "import time\n",
    "import math\n",
    "\n",
    "n_iters = 100000\n",
    "print_every = 5000\n",
    "plot_every = 1000\n",
    "\n",
    "\n",
    "\n",
    "# Keep track of losses for plotting\n",
    "current_loss = 0\n",
    "all_losses = []\n",
    "\n",
    "def timeSince(since):\n",
    "    now = time.time()\n",
    "    s = now - since\n",
    "    m = math.floor(s / 60)\n",
    "    s -= m * 60\n",
    "    return '%dm %ds' % (m, s)\n",
    "\n",
    "start = time.time()\n",
    "\n",
    "for iter in range(1, n_iters + 1):\n",
    "    category, line, category_tensor, line_tensor = randomTrainingExample()\n",
    "    output, loss = train(category_tensor, line_tensor)\n",
    "    current_loss += loss\n",
    "\n",
    "    # Print ``iter`` number, loss, name and guess\n",
    "    if iter % print_every == 0:\n",
    "        guess, guess_i = categoryFromOutput(output)\n",
    "        correct = '✓' if guess == category else '✗ (%s)' % category\n",
    "        print('%d %d%% (%s) %.4f %s / %s %s' % (iter, iter / n_iters * 100, timeSince(start), loss, line, guess, correct))\n",
    "\n",
    "    # Add current loss avg to list of losses\n",
    "    if iter % plot_every == 0:\n",
    "        all_losses.append(current_loss / plot_every)\n",
    "        current_loss = 0"
   ]
  },
  {
   "cell_type": "code",
   "execution_count": null,
   "metadata": {},
   "outputs": [],
   "source": []
  },
  {
   "cell_type": "markdown",
   "metadata": {},
   "source": [
    "Turning Names into Tensors\n",
    "==========================\n",
    "\n",
    "Now that we have all the names organized, we need to turn them into\n",
    "Tensors to make any use of them.\n",
    "\n",
    "To represent a single letter, we use a \\\"one-hot vector\\\" of size\n",
    "`<1 x n_letters>`. A one-hot vector is filled with 0s except for a 1 at\n",
    "index of the current letter, e.g. `\"b\" = <0 1 0 0 0 ...>`.\n",
    "\n",
    "To make a word we join a bunch of those into a 2D matrix\n",
    "`<line_length x 1 x n_letters>`.\n",
    "\n",
    "That extra 1 dimension is because PyTorch assumes everything is in\n",
    "batches - we\\'re just using a batch size of 1 here.\n"
   ]
  },
  {
   "cell_type": "markdown",
   "metadata": {},
   "source": [
    "Creating the Network\n",
    "====================\n",
    "\n",
    "Before autograd, creating a recurrent neural network in Torch involved\n",
    "cloning the parameters of a layer over several timesteps. The layers\n",
    "held hidden state and gradients which are now entirely handled by the\n",
    "graph itself. This means you can implement a RNN in a very \\\"pure\\\" way,\n",
    "as regular feed-forward layers.\n",
    "\n",
    "This RNN module implements a \\\"vanilla RNN\\\" an is just 3 linear layers\n",
    "which operate on an input and hidden state, with a `LogSoftmax` layer\n",
    "after the output.\n"
   ]
  },
  {
   "cell_type": "code",
   "execution_count": 5,
   "metadata": {
    "collapsed": false
   },
   "outputs": [],
   "source": [
    "import torch.nn as nn\n",
    "import torch.nn.functional as F\n",
    "\n",
    "class RNN(nn.Module):\n",
    "    def __init__(self, input_size, hidden_size, output_size):\n",
    "        super(RNN, self).__init__()\n",
    "\n",
    "        self.hidden_size = hidden_size\n",
    "\n",
    "        self.i2h = nn.Linear(input_size, hidden_size)\n",
    "        self.h2h = nn.Linear(hidden_size, hidden_size)\n",
    "        self.h2o = nn.Linear(hidden_size, output_size)\n",
    "        self.softmax = nn.LogSoftmax(dim=1)\n",
    "\n",
    "    def forward(self, input, hidden):\n",
    "        hidden = F.tanh(self.i2h(input) + self.h2h(hidden))\n",
    "        output = self.h2o(hidden)\n",
    "        output = self.softmax(output)\n",
    "        return output, hidden\n",
    "\n",
    "    def initHidden(self):\n",
    "        return torch.zeros(1, self.hidden_size)\n",
    "\n",
    "n_hidden = 128\n",
    "rnn = RNN(n_letters, n_hidden, n_categories)"
   ]
  },
  {
   "cell_type": "code",
   "execution_count": 6,
   "metadata": {
    "collapsed": false
   },
   "outputs": [],
   "source": [
    "input = letterToTensor('A')\n",
    "hidden = torch.zeros(1, n_hidden)\n",
    "\n",
    "output, next_hidden = rnn(input, hidden)"
   ]
  },
  {
   "cell_type": "code",
   "execution_count": 7,
   "metadata": {
    "collapsed": false
   },
   "outputs": [
    {
     "name": "stdout",
     "output_type": "stream",
     "text": [
      "tensor([[-2.9749, -2.6424, -2.9224, -2.8273, -3.0181, -3.0578, -2.8341, -2.9614,\n",
      "         -2.9096, -2.9495, -2.9767, -2.8433, -2.7255, -2.9011, -2.9131, -2.8721,\n",
      "         -2.9645, -2.8241]], grad_fn=<LogSoftmaxBackward0>)\n"
     ]
    }
   ],
   "source": [
    "input = lineToTensor('Albert')\n",
    "hidden = torch.zeros(1, n_hidden)\n",
    "\n",
    "output, next_hidden = rnn(input[0], hidden)\n",
    "print(output)"
   ]
  },
  {
   "cell_type": "markdown",
   "metadata": {},
   "source": [
    "As you can see the output is a `<1 x n_categories>` Tensor, where every\n",
    "item is the likelihood of that category (higher is more likely).\n"
   ]
  },
  {
   "cell_type": "markdown",
   "metadata": {},
   "source": [
    "Training\n",
    "========\n",
    "\n",
    "Preparing for Training\n",
    "----------------------\n",
    "\n",
    "Before going into training we should make a few helper functions. The\n",
    "first is to interpret the output of the network, which we know to be a\n",
    "likelihood of each category. We can use `Tensor.topk` to get the index\n",
    "of the greatest value:\n"
   ]
  },
  {
   "cell_type": "code",
   "execution_count": 8,
   "metadata": {
    "collapsed": false
   },
   "outputs": [
    {
     "name": "stdout",
     "output_type": "stream",
     "text": [
      "('Russian', 1)\n"
     ]
    }
   ],
   "source": [
    "def categoryFromOutput(output):\n",
    "    top_n, top_i = output.topk(1)\n",
    "    category_i = top_i[0].item()\n",
    "    return all_categories[category_i], category_i\n",
    "\n",
    "print(categoryFromOutput(output))"
   ]
  },
  {
   "cell_type": "markdown",
   "metadata": {},
   "source": [
    "We will also want a quick way to get a training example (a name and its\n",
    "language):\n"
   ]
  },
  {
   "cell_type": "code",
   "execution_count": 9,
   "metadata": {
    "collapsed": false
   },
   "outputs": [
    {
     "name": "stdout",
     "output_type": "stream",
     "text": [
      "category = French / line = Girard\n",
      "category = Scottish / line = Black\n",
      "category = Dutch / line = Rossem\n",
      "category = Portuguese / line = Nunes\n",
      "category = French / line = Lestrange\n",
      "category = Vietnamese / line = Nguyen\n",
      "category = Greek / line = Kaloxylos\n",
      "category = Czech / line = Molcan\n",
      "category = Irish / line = Braden\n",
      "category = Japanese / line = Shirokawa\n"
     ]
    }
   ],
   "source": [
    "import random\n",
    "\n",
    "def randomChoice(l):\n",
    "    return l[random.randint(0, len(l) - 1)]\n",
    "\n",
    "def randomTrainingExample():\n",
    "    category = randomChoice(all_categories)\n",
    "    line = randomChoice(category_lines[category])\n",
    "    category_tensor = torch.tensor([all_categories.index(category)], dtype=torch.long)\n",
    "    line_tensor = lineToTensor(line)\n",
    "    return category, line, category_tensor, line_tensor\n",
    "\n",
    "for i in range(10):\n",
    "    category, line, category_tensor, line_tensor = randomTrainingExample()\n",
    "    print('category =', category, '/ line =', line)"
   ]
  },
  {
   "cell_type": "markdown",
   "metadata": {},
   "source": [
    "Training the Network\n",
    "====================\n",
    "\n",
    "Now all it takes to train this network is show it a bunch of examples,\n",
    "have it make guesses, and tell it if it\\'s wrong.\n",
    "\n",
    "For the loss function `nn.NLLLoss` is appropriate, since the last layer\n",
    "of the RNN is `nn.LogSoftmax`.\n"
   ]
  },
  {
   "cell_type": "code",
   "execution_count": 10,
   "metadata": {
    "collapsed": false
   },
   "outputs": [],
   "source": [
    "criterion = nn.NLLLoss()"
   ]
  },
  {
   "cell_type": "markdown",
   "metadata": {},
   "source": [
    "Each loop of training will:\n",
    "\n",
    "-   Create input and target tensors\n",
    "-   Create a zeroed initial hidden state\n",
    "-   Read each letter in and\n",
    "    -   Keep hidden state for next letter\n",
    "-   Compare final output to target\n",
    "-   Back-propagate\n",
    "-   Return the output and loss\n"
   ]
  },
  {
   "cell_type": "code",
   "execution_count": 11,
   "metadata": {
    "collapsed": false
   },
   "outputs": [],
   "source": [
    "learning_rate = 0.005 # If you set this too high, it might explode. If too low, it might not learn\n",
    "\n",
    "def train(category_tensor, line_tensor):\n",
    "    hidden = rnn.initHidden()\n",
    "\n",
    "    rnn.zero_grad()\n",
    "\n",
    "    for i in range(line_tensor.size()[0]):\n",
    "        output, hidden = rnn(line_tensor[i], hidden)\n",
    "\n",
    "    loss = criterion(output, category_tensor)\n",
    "    loss.backward()\n",
    "\n",
    "    # Add parameters' gradients to their values, multiplied by learning rate\n",
    "    for p in rnn.parameters():\n",
    "        p.data.add_(p.grad.data, alpha=-learning_rate)\n",
    "\n",
    "    return output, loss.item()"
   ]
  },
  {
   "cell_type": "markdown",
   "metadata": {},
   "source": [
    "Now we just have to run that with a bunch of examples. Since the `train`\n",
    "function returns both the output and loss we can print its guesses and\n",
    "also keep track of loss for plotting. Since there are 1000s of examples\n",
    "we print only every `print_every` examples, and take an average of the\n",
    "loss.\n"
   ]
  },
  {
   "cell_type": "code",
   "execution_count": 12,
   "metadata": {
    "collapsed": false
   },
   "outputs": [
    {
     "name": "stdout",
     "output_type": "stream",
     "text": [
      "5000 5% (0m 4s) 2.5123 Simon / English ✗ (Irish)\n",
      "10000 10% (0m 8s) 1.4701 Fiedler / German ✓\n",
      "15000 15% (0m 11s) 0.9583 Garcia / Portuguese ✓\n",
      "20000 20% (0m 14s) 0.2533 Manoukarakis / Greek ✓\n",
      "25000 25% (0m 18s) 1.3166 Grant / Scottish ✓\n",
      "30000 30% (0m 21s) 0.4735 Takeda / Japanese ✓\n",
      "35000 35% (0m 24s) 1.2679 Sarkis / Arabic ✓\n",
      "40000 40% (0m 27s) 2.7964 Jirku / Polish ✗ (Czech)\n",
      "45000 45% (0m 31s) 2.1172 Blanchet / English ✗ (French)\n",
      "50000 50% (0m 34s) 0.9546 Silva / Portuguese ✓\n",
      "55000 55% (0m 37s) 4.8105 Haanrath / Arabic ✗ (Dutch)\n",
      "60000 60% (0m 40s) 0.2894 Diakogeorgiou / Greek ✓\n",
      "65000 65% (0m 43s) 0.0102 Zhiznyakov / Russian ✓\n",
      "70000 70% (0m 46s) 1.0197 Warrington / English ✓\n",
      "75000 75% (0m 49s) 0.3662 Parodi / Italian ✓\n",
      "80000 80% (0m 52s) 1.2836 Alvarado / Italian ✗ (Spanish)\n",
      "85000 85% (0m 56s) 0.9275 Schultheiss / German ✓\n",
      "90000 90% (0m 59s) 0.0281 Doan / Vietnamese ✓\n",
      "95000 95% (1m 2s) 0.1848 Mao / Chinese ✓\n",
      "100000 100% (1m 5s) 1.0391 Ceallachan / Irish ✓\n"
     ]
    }
   ],
   "source": [
    "import time\n",
    "import math\n",
    "\n",
    "n_iters = 100000\n",
    "print_every = 5000\n",
    "plot_every = 1000\n",
    "\n",
    "\n",
    "\n",
    "# Keep track of losses for plotting\n",
    "current_loss = 0\n",
    "all_losses = []\n",
    "\n",
    "def timeSince(since):\n",
    "    now = time.time()\n",
    "    s = now - since\n",
    "    m = math.floor(s / 60)\n",
    "    s -= m * 60\n",
    "    return '%dm %ds' % (m, s)\n",
    "\n",
    "start = time.time()\n",
    "\n",
    "for iter in range(1, n_iters + 1):\n",
    "    category, line, category_tensor, line_tensor = randomTrainingExample()\n",
    "    output, loss = train(category_tensor, line_tensor)\n",
    "    current_loss += loss\n",
    "\n",
    "    # Print ``iter`` number, loss, name and guess\n",
    "    if iter % print_every == 0:\n",
    "        guess, guess_i = categoryFromOutput(output)\n",
    "        correct = '✓' if guess == category else '✗ (%s)' % category\n",
    "        print('%d %d%% (%s) %.4f %s / %s %s' % (iter, iter / n_iters * 100, timeSince(start), loss, line, guess, correct))\n",
    "\n",
    "    # Add current loss avg to list of losses\n",
    "    if iter % plot_every == 0:\n",
    "        all_losses.append(current_loss / plot_every)\n",
    "        current_loss = 0"
   ]
  },
  {
   "cell_type": "markdown",
   "metadata": {},
   "source": [
    "Plotting the Results\n",
    "====================\n",
    "\n",
    "Plotting the historical loss from `all_losses` shows the network\n",
    "learning:\n"
   ]
  },
  {
   "cell_type": "code",
   "execution_count": 13,
   "metadata": {
    "collapsed": false
   },
   "outputs": [
    {
     "data": {
      "text/plain": [
       "[<matplotlib.lines.Line2D at 0x7f4adf5d4f20>]"
      ]
     },
     "execution_count": 13,
     "metadata": {},
     "output_type": "execute_result"
    },
    {
     "data": {
      "image/png": "[encoded data removed]",
      "text/plain": [
       "<Figure size 640x480 with 1 Axes>"
      ]
     },
     "metadata": {},
     "output_type": "display_data"
    }
   ],
   "source": [
    "import matplotlib.pyplot as plt\n",
    "import matplotlib.ticker as ticker\n",
    "\n",
    "plt.figure()\n",
    "plt.plot(all_losses)"
   ]
  },
  {
   "cell_type": "markdown",
   "metadata": {},
   "source": [
    "Evaluating the Results\n",
    "======================\n",
    "\n",
    "To see how well the network performs on different categories, we will\n",
    "create a confusion matrix, indicating for every actual language (rows)\n",
    "which language the network guesses (columns). To calculate the confusion\n",
    "matrix a bunch of samples are run through the network with `evaluate()`,\n",
    "which is the same as `train()` minus the backprop.\n"
   ]
  },
  {
   "cell_type": "code",
   "execution_count": 14,
   "metadata": {
    "collapsed": false
   },
   "outputs": [
    {
     "name": "stderr",
     "output_type": "stream",
     "text": [
      "/tmp/ipykernel_30951/3585656379.py:33: UserWarning: set_ticklabels() should only be used with a fixed number of ticks, i.e. after set_ticks() or using a FixedLocator.\n",
      "  ax.set_xticklabels([''] + all_categories, rotation=90)\n",
      "/tmp/ipykernel_30951/3585656379.py:34: UserWarning: set_ticklabels() should only be used with a fixed number of ticks, i.e. after set_ticks() or using a FixedLocator.\n",
      "  ax.set_yticklabels([''] + all_categories)\n"
     ]
    },
    {
     "data": {
      "image/png": "[encoded data removed]",
      "text/plain": [
       "<Figure size 640x480 with 2 Axes>"
      ]
     },
     "metadata": {},
     "output_type": "display_data"
    }
   ],
   "source": [
    "# Keep track of correct guesses in a confusion matrix\n",
    "confusion = torch.zeros(n_categories, n_categories)\n",
    "n_confusion = 10000\n",
    "\n",
    "# Just return an output given a line\n",
    "def evaluate(line_tensor):\n",
    "    hidden = rnn.initHidden()\n",
    "\n",
    "    for i in range(line_tensor.size()[0]):\n",
    "        output, hidden = rnn(line_tensor[i], hidden)\n",
    "\n",
    "    return output\n",
    "\n",
    "# Go through a bunch of examples and record which are correctly guessed\n",
    "for i in range(n_confusion):\n",
    "    category, line, category_tensor, line_tensor = randomTrainingExample()\n",
    "    output = evaluate(line_tensor)\n",
    "    guess, guess_i = categoryFromOutput(output)\n",
    "    category_i = all_categories.index(category)\n",
    "    confusion[category_i][guess_i] += 1\n",
    "\n",
    "# Normalize by dividing every row by its sum\n",
    "for i in range(n_categories):\n",
    "    confusion[i] = confusion[i] / confusion[i].sum()\n",
    "\n",
    "# Set up plot\n",
    "fig = plt.figure()\n",
    "ax = fig.add_subplot(111)\n",
    "cax = ax.matshow(confusion.numpy())\n",
    "fig.colorbar(cax)\n",
    "\n",
    "# Set up axes\n",
    "ax.set_xticklabels([''] + all_categories, rotation=90)\n",
    "ax.set_yticklabels([''] + all_categories)\n",
    "\n",
    "# Force label at every tick\n",
    "ax.xaxis.set_major_locator(ticker.MultipleLocator(1))\n",
    "ax.yaxis.set_major_locator(ticker.MultipleLocator(1))\n",
    "\n",
    "# sphinx_gallery_thumbnail_number = 2\n",
    "plt.show()"
   ]
  },
  {
   "cell_type": "markdown",
   "metadata": {},
   "source": [
    "You can pick out bright spots off the main axis that show which\n",
    "languages it guesses incorrectly, e.g. Chinese for Korean, and Spanish\n",
    "for Italian. It seems to do very well with Greek, and very poorly with\n",
    "English (perhaps because of overlap with other languages).\n"
   ]
  },
  {
   "cell_type": "markdown",
   "metadata": {},
   "source": [
    "Running on User Input\n",
    "=====================\n"
   ]
  },
  {
   "cell_type": "code",
   "execution_count": 15,
   "metadata": {
    "collapsed": false
   },
   "outputs": [
    {
     "name": "stdout",
     "output_type": "stream",
     "text": [
      "\n",
      "> Dovesky\n",
      "(-0.81) Czech\n",
      "(-1.21) Russian\n",
      "(-1.72) English\n",
      "\n",
      "> Jackson\n",
      "(-0.08) Scottish\n",
      "(-2.97) English\n",
      "(-4.62) Russian\n",
      "\n",
      "> Satoshi\n",
      "(-0.07) Japanese\n",
      "(-3.25) Italian\n",
      "(-4.18) Arabic\n"
     ]
    }
   ],
   "source": [
    "def predict(input_line, n_predictions=3):\n",
    "    print('\\n> %s' % input_line)\n",
    "    with torch.no_grad():\n",
    "        output = evaluate(lineToTensor(input_line))\n",
    "\n",
    "        # Get top N categories\n",
    "        topv, topi = output.topk(n_predictions, 1, True)\n",
    "        predictions = []\n",
    "\n",
    "        for i in range(n_predictions):\n",
    "            value = topv[0][i].item()\n",
    "            category_index = topi[0][i].item()\n",
    "            print('(%.2f) %s' % (value, all_categories[category_index]))\n",
    "            predictions.append([value, all_categories[category_index]])\n",
    "\n",
    "predict('Dovesky')\n",
    "predict('Jackson')\n",
    "predict('Satoshi')"
   ]
  },
  {
   "cell_type": "markdown",
   "metadata": {},
   "source": [
    "The final versions of the scripts [in the Practical PyTorch\n",
    "repo](https://github.com/spro/practical-pytorch/tree/master/char-rnn-classification)\n",
    "split the above code into a few files:\n",
    "\n",
    "-   `data.py` (loads files)\n",
    "-   `model.py` (defines the RNN)\n",
    "-   `train.py` (runs training)\n",
    "-   `predict.py` (runs `predict()` with command line arguments)\n",
    "-   `server.py` (serve prediction as a JSON API with `bottle.py`)\n",
    "\n",
    "Run `train.py` to train and save the network.\n",
    "\n",
    "Run `predict.py` with a name to view predictions:\n",
    "\n",
    "``` {.sourceCode .sh}\n",
    "$ python predict.py Hazaki\n",
    "(-0.42) Japanese\n",
    "(-1.39) Polish\n",
    "(-3.51) Czech\n",
    "```\n",
    "\n",
    "Run `server.py` and visit <http://localhost:5533/Yourname> to get JSON\n",
    "output of predictions.\n"
   ]
  },
  {
   "cell_type": "markdown",
   "metadata": {},
   "source": [
    "Exercises\n",
    "=========\n",
    "\n",
    "-   Try with a different dataset of line -\\> category, for example:\n",
    "    -   Any word -\\> language\n",
    "    -   First name -\\> gender\n",
    "    -   Character name -\\> writer\n",
    "    -   Page title -\\> blog or subreddit\n",
    "-   Get better results with a bigger and/or better shaped network\n",
    "    -   Add more linear layers\n",
    "    -   Try the `nn.LSTM` and `nn.GRU` layers\n",
    "    -   Combine multiple of these RNNs as a higher level network\n"
   ]
  }
 ],
 "metadata": {
  "kernelspec": {
   "display_name": "Python 3",
   "language": "python",
   "name": "python3"
  },
  "language_info": {
   "codemirror_mode": {
    "name": "ipython",
    "version": 3
   },
   "file_extension": ".py",
   "mimetype": "text/x-python",
   "name": "python",
   "nbconvert_exporter": "python",
   "pygments_lexer": "ipython3",
   "version": "3.12.2"
  }
 },
 "nbformat": 4,
 "nbformat_minor": 0
}
