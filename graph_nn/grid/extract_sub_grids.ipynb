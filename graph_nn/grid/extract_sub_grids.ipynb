{
 "cells": [
  {
   "cell_type": "markdown",
   "metadata": {},
   "source": [
    "# Extract Sub Grids\n",
    "\n",
    "Read grid files and generate various subsets."
   ]
  },
  {
   "cell_type": "code",
   "execution_count": 3,
   "metadata": {},
   "outputs": [],
   "source": [
    "import sys\n",
    "from pathlib import Path\n",
    "import numpy as np\n",
    "import pandas as pd  # pylint: disable=import-error\n",
    "# import shutil\n",
    "# import common\n",
    "\n",
    "sys.path.insert(0, '../../python')\n",
    "from simpython.cmg import gridfile  # type: ignore # pylint: disable=import-error,wrong-import-position"
   ]
  },
  {
   "cell_type": "code",
   "execution_count": 4,
   "metadata": {},
   "outputs": [
    {
     "data": {
      "text/plain": [
       "<module 'simpython.cmg.gridfile' from '/home/tiago/dev/SimModels/graph_nn/grid/../../python/simpython/cmg/gridfile.py'>"
      ]
     },
     "execution_count": 4,
     "metadata": {},
     "output_type": "execute_result"
    }
   ],
   "source": [
    "import importlib\n",
    "importlib.reload(gridfile)"
   ]
  },
  {
   "cell_type": "markdown",
   "metadata": {},
   "source": [
    "## Options"
   ]
  },
  {
   "cell_type": "code",
   "execution_count": 5,
   "metadata": {},
   "outputs": [],
   "source": [
    "def list_files(folder_path):\n",
    "    \"\"\" List files names in folder \"\"\"\n",
    "    try:\n",
    "        folder_path = Path(folder_path)\n",
    "        filenames = [file for file in folder_path.iterdir() if file.is_file()]\n",
    "        filenames.sort()\n",
    "        return filenames\n",
    "    except FileNotFoundError:\n",
    "        print(f\"Folder '{folder_path}' not found.\")\n",
    "        return []"
   ]
  },
  {
   "cell_type": "code",
   "execution_count": 10,
   "metadata": {},
   "outputs": [],
   "source": [
    "geo_folder_path = '../../Unisim_iv_2024/grid/2024/prior'\n",
    "geo_folder_path = Path(geo_folder_path)\n",
    "all_files = list_files(geo_folder_path)"
   ]
  },
  {
   "cell_type": "code",
   "execution_count": 11,
   "metadata": {},
   "outputs": [],
   "source": [
    "options = {\n",
    "    'ni': 47,\n",
    "    'nj': 39,\n",
    "    'nk': 291,\n",
    "    'file_names': ['PERMI', 'PERMJ', 'PERMK', 'POR'],\n",
    "    'subgrids': [],\n",
    "}\n",
    "\n",
    "for k in range(41,54):\n",
    "    options['subgrids'].append( (33,37,12,16,k,k) )\n",
    "for k in range(75,96):\n",
    "    options['subgrids'].append( (33,37,12,16,k,k) )\n",
    "for k in range(206,224):\n",
    "    options['subgrids'].append( (17,21,19,23,k,k) )\n",
    "for k in range(229,270):\n",
    "    options['subgrids'].append( (17,21,19,23,k,k) )"
   ]
  },
  {
   "cell_type": "markdown",
   "metadata": {},
   "source": [
    "## Main Functions"
   ]
  },
  {
   "cell_type": "code",
   "execution_count": 12,
   "metadata": {},
   "outputs": [
    {
     "data": {
      "text/plain": [
       "'PERMI_82.geo'"
      ]
     },
     "execution_count": 12,
     "metadata": {},
     "output_type": "execute_result"
    }
   ],
   "source": [
    "all_files[81].name"
   ]
  },
  {
   "cell_type": "code",
   "execution_count": 13,
   "metadata": {},
   "outputs": [
    {
     "name": "stdout",
     "output_type": "stream",
     "text": [
      "PERMI ALL\n",
      "True\n"
     ]
    }
   ],
   "source": [
    "grid = gridfile.GridFile(file_path=all_files[81])\n",
    "\n",
    "ni = options['ni']\n",
    "nj = options['nj']\n",
    "nk = options['nk']\n",
    "\n",
    "print(grid.get_keyword())\n",
    "print(grid.get_number_values() == ni*nj*nk)\n",
    "\n",
    "values = np.array(grid.get_values())\n",
    "values_3d = values.reshape(nk, nj,-1)"
   ]
  },
  {
   "cell_type": "code",
   "execution_count": 14,
   "metadata": {},
   "outputs": [],
   "source": [
    "def n2ijk(n):\n",
    "    k = int(n/(ni*nj)) + 1\n",
    "    j = int( (n/ni - (k-1)*nj)) + 1\n",
    "    i = n - (k-1)*ni*nj - (j-1)*ni + 1\n",
    "    return i,j,k\n",
    "\n",
    "def ijk2n(i,j,k):\n",
    "    return (k-1)*ni*nj + (j-1)*ni + i-1\n",
    "\n",
    "def get_value(i,j=None,k=None):\n",
    "    if j is None:\n",
    "        return values[i]\n",
    "    elif k is not None:\n",
    "        return values_3d[k-1,j-1,i-1]\n",
    "    raise ValueError('Invalid option!')\n",
    "\n",
    "def get_subgrid(range_, one_dimension=False):\n",
    "    i1, i2, j1, j2, k1, k2 = range_\n",
    "    i1 -= 1\n",
    "    j1 -= 1\n",
    "    k1 -= 1\n",
    "    if one_dimension:\n",
    "        return values_3d[k1:k2, j1:j2, i1:i2].reshape(-1)\n",
    "    return values_3d[k1:k2, j1:j2, i1:i2]\n",
    "\n",
    "def write_grid(output_file_path, values):\n",
    "    gridfile.GridFile.write_(\n",
    "        output_file_path=output_file_path,\n",
    "        values=values,\n",
    "        keyword=grid.get_keyword(),\n",
    "        comments=grid.get_comments())"
   ]
  },
  {
   "cell_type": "code",
   "execution_count": 15,
   "metadata": {},
   "outputs": [],
   "source": [
    "write_grid(Path('./test.geo'), get_subgrid(options['subgrids'][0], one_dimension=True))"
   ]
  },
  {
   "cell_type": "code",
   "execution_count": null,
   "metadata": {},
   "outputs": [],
   "source": []
  }
 ],
 "metadata": {
  "kernelspec": {
   "display_name": ".venv",
   "language": "python",
   "name": "python3"
  },
  "language_info": {
   "codemirror_mode": {
    "name": "ipython",
    "version": 3
   },
   "file_extension": ".py",
   "mimetype": "text/x-python",
   "name": "python",
   "nbconvert_exporter": "python",
   "pygments_lexer": "ipython3",
   "version": "3.12.2"
  }
 },
 "nbformat": 4,
 "nbformat_minor": 2
}
