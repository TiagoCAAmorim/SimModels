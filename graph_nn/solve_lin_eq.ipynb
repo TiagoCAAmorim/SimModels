{
 "cells": [
  {
   "cell_type": "markdown",
   "metadata": {},
   "source": [
    "# CNN to solve a multiband linear equation system"
   ]
  },
  {
   "cell_type": "code",
   "execution_count": 8,
   "metadata": {},
   "outputs": [],
   "source": [
    "import random\n",
    "import numpy as np\n",
    "import pandas as pd\n",
    "import torch\n",
    "import torch.nn as nn\n",
    "# import torch.nn.functional as F\n",
    "# from torch.utils.data import Dataset, DataLoader\n",
    "\n",
    "# from sklearn.model_selection import train_test_split\n",
    "import matplotlib.pyplot as plt"
   ]
  },
  {
   "cell_type": "markdown",
   "metadata": {},
   "source": [
    "## Samples Generator"
   ]
  },
  {
   "cell_type": "code",
   "execution_count": 68,
   "metadata": {},
   "outputs": [
    {
     "data": {
      "text/plain": [
       "tensor([[1., 1., 0., 0., 1., 0., 0., 0.],\n",
       "        [1., 1., 1., 0., 0., 1., 0., 0.],\n",
       "        [0., 1., 1., 1., 0., 0., 1., 0.],\n",
       "        [0., 0., 1., 1., 0., 0., 0., 1.],\n",
       "        [1., 0., 0., 0., 1., 1., 0., 0.],\n",
       "        [0., 1., 0., 0., 1., 1., 1., 0.],\n",
       "        [0., 0., 1., 0., 0., 1., 1., 1.],\n",
       "        [0., 0., 0., 1., 0., 0., 1., 1.]])"
      ]
     },
     "execution_count": 68,
     "metadata": {},
     "output_type": "execute_result"
    }
   ],
   "source": [
    "def tensor2matrix(t):\n",
    "\n",
    "    pass\n",
    "\n",
    "def make_matrix(number_generator,\n",
    "                args={},\n",
    "                symmetric=True,\n",
    "                off_diagonal_abs_mean=0.5,\n",
    "                grid_size=(5, 5),\n",
    "                as_tensor=False):\n",
    "    ni, nj = grid_size\n",
    "    n_diag = ni*nj\n",
    "    n_diag_1 = ni*nj - 1\n",
    "    n_diag_ni = ni*(nj-1)\n",
    "\n",
    "    diag = [1.]*n_diag\n",
    "    diag_1_u = [number_generator(**args) for _ in range(n_diag_1)]\n",
    "    diag_ni_u = [number_generator(**args) for _ in range(n_diag_ni)]\n",
    "\n",
    "    if symmetric:\n",
    "        diag_1_l = diag_1_u\n",
    "        diag_ni_l = diag_ni_u\n",
    "    else:\n",
    "        diag_1_l = [number_generator(**args) for _ in range(n_diag_1)]\n",
    "        diag_ni_l = [number_generator(**args) for _ in range(n_diag_ni)]\n",
    "\n",
    "    diag_1_u[ni-1::ni] = [0]*(nj-1)\n",
    "    diag_1_l[ni-1::ni] = [0]*(nj-1)\n",
    "\n",
    "    diag = torch.tensor(diag).float()\n",
    "    diag_1_u = torch.tensor(diag_1_u).float()\n",
    "    diag_1_l = torch.tensor(diag_1_l).float()\n",
    "    diag_ni_u = torch.tensor(diag_ni_u).float()\n",
    "    diag_ni_l = torch.tensor(diag_ni_l).float()\n",
    "\n",
    "    # t = torch.cat([diag_ni_u.reshape((ni,nj)), diag_1_u, diag_1_l, diag_ni_l])\n",
    "\n",
    "\n",
    "    m = torch.zeros((n_diag,n_diag))\n",
    "    m = m + torch.diag_embed(diag)\n",
    "    m[1:,:-1] = m[1:,:-1] + torch.diag_embed(diag_1_l)\n",
    "    m[:-1,1:] = m[:-1,1:] + torch.diag_embed(diag_1_u)\n",
    "    m[ni:,:-ni] = m[ni:,:-ni] + torch.diag_embed(diag_ni_l)\n",
    "    m[:-ni,ni:] = m[:-ni,ni:] + torch.diag_embed(diag_ni_u)\n",
    "\n",
    "    return m\n",
    "\n",
    "def one():\n",
    "    return 1\n",
    "\n",
    "m = make_matrix(#number_generator=random.uniform,\n",
    "                #args={'a':1,'b':3},\n",
    "                one,\n",
    "                grid_size=(4,2))\n",
    "m"
   ]
  },
  {
   "cell_type": "code",
   "execution_count": null,
   "metadata": {},
   "outputs": [],
   "source": []
  },
  {
   "cell_type": "code",
   "execution_count": null,
   "metadata": {},
   "outputs": [],
   "source": []
  },
  {
   "cell_type": "code",
   "execution_count": null,
   "metadata": {},
   "outputs": [],
   "source": []
  },
  {
   "cell_type": "code",
   "execution_count": null,
   "metadata": {},
   "outputs": [],
   "source": []
  },
  {
   "cell_type": "code",
   "execution_count": null,
   "metadata": {},
   "outputs": [],
   "source": []
  }
 ],
 "metadata": {
  "kernelspec": {
   "display_name": ".venv",
   "language": "python",
   "name": "python3"
  },
  "language_info": {
   "codemirror_mode": {
    "name": "ipython",
    "version": 3
   },
   "file_extension": ".py",
   "mimetype": "text/x-python",
   "name": "python",
   "nbconvert_exporter": "python",
   "pygments_lexer": "ipython3",
   "version": "3.12.2"
  }
 },
 "nbformat": 4,
 "nbformat_minor": 2
}
