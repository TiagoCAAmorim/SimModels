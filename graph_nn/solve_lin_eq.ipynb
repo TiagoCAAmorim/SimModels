{
 "cells": [
  {
   "cell_type": "markdown",
   "metadata": {},
   "source": [
    "# CNN to solve a multiband linear equation system"
   ]
  },
  {
   "cell_type": "code",
   "execution_count": 2,
   "metadata": {},
   "outputs": [],
   "source": [
    "import random\n",
    "import numpy as np\n",
    "import pandas as pd\n",
    "import torch\n",
    "import torch.nn as nn\n",
    "# import torch.nn.functional as F\n",
    "# from torch.utils.data import Dataset, DataLoader\n",
    "\n",
    "# from sklearn.model_selection import train_test_split\n",
    "import matplotlib.pyplot as plt"
   ]
  },
  {
   "cell_type": "markdown",
   "metadata": {},
   "source": [
    "## Samples Generator"
   ]
  },
  {
   "cell_type": "code",
   "execution_count": 90,
   "metadata": {},
   "outputs": [
    {
     "name": "stdout",
     "output_type": "stream",
     "text": [
      "ni_u = tensor([ 3.7700, -1.0961,  2.8185,  1.8514])\n",
      "1_u = tensor([0.6850, 2.9814, 3.5380])\n",
      "1_l = tensor([ 0.2580, -1.0260,  3.3171])\n",
      "ni_l = tensor([-0.9402,  1.9439, -0.2893,  3.4852])\n",
      "tensor([[[ 0.0000,  3.7700, -1.0961],\n",
      "         [ 0.0000,  2.8185,  1.8514]],\n",
      "\n",
      "        [[ 0.0000,  0.0000,  0.0000],\n",
      "         [ 0.6850,  2.9814,  3.5380]],\n",
      "\n",
      "        [[ 0.2580, -1.0260,  3.3171],\n",
      "         [ 0.0000,  0.0000,  0.0000]],\n",
      "\n",
      "        [[-0.9402,  1.9439,  0.0000],\n",
      "         [-0.2893,  3.4852,  0.0000]]])\n"
     ]
    },
    {
     "data": {
      "text/plain": [
       "tensor([[ 1.0000,  0.6850,  3.7700,  0.0000,  0.0000,  0.0000],\n",
       "        [ 0.2580,  1.0000,  0.0000,  2.8185,  0.0000,  0.0000],\n",
       "        [-0.9402,  0.0000,  1.0000,  2.9814, -1.0961,  0.0000],\n",
       "        [ 0.0000, -0.2893, -1.0260,  1.0000,  0.0000,  1.8514],\n",
       "        [ 0.0000,  0.0000,  1.9439,  0.0000,  1.0000,  3.5380],\n",
       "        [ 0.0000,  0.0000,  0.0000,  3.4852,  3.3171,  1.0000]])"
      ]
     },
     "execution_count": 90,
     "metadata": {},
     "output_type": "execute_result"
    }
   ],
   "source": [
    "def tensor2matrix(t):\n",
    "\n",
    "    pass\n",
    "\n",
    "def make_matrix(number_generator,\n",
    "                args={},\n",
    "                symmetric=True,\n",
    "                off_diagonal_abs_mean=0.5,\n",
    "                grid_size=(5, 5),\n",
    "                as_tensor=True):\n",
    "\n",
    "    #Generate values\n",
    "    ni, nj = grid_size\n",
    "    n_diag_1 = (ni-1)*nj\n",
    "    n_diag_ni = ni*(nj-1)\n",
    "\n",
    "    diag_1_u = [number_generator(**args) for _ in range(n_diag_1)]\n",
    "    diag_ni_u = [number_generator(**args) for _ in range(n_diag_ni)]\n",
    "\n",
    "    if symmetric:\n",
    "        diag_1_l = diag_1_u\n",
    "        diag_ni_l = diag_ni_u\n",
    "    else:\n",
    "        diag_1_l = [number_generator(**args) for _ in range(n_diag_1)]\n",
    "        diag_ni_l = [number_generator(**args) for _ in range(n_diag_ni)]\n",
    "\n",
    "    #To tensor\n",
    "    diag_1_u = torch.tensor(diag_1_u).float()\n",
    "    diag_1_l = torch.tensor(diag_1_l).float()\n",
    "    diag_ni_u = torch.tensor(diag_ni_u).float()\n",
    "    diag_ni_l = torch.tensor(diag_ni_l).float()\n",
    "\n",
    "    #Scale off main diagonal\n",
    "    off_diagonal = torch.cat([diag_ni_u, diag_1_u, diag_1_l, diag_ni_l])\n",
    "    off_diagonal = torch.abs(off_diagonal)\n",
    "    mean_abs = torch.mean(off_diagonal)\n",
    "    alpha = off_diagonal_abs_mean / mean_abs\n",
    "    diag_1_u = torch.mul(diag_1_u, alpha)\n",
    "    diag_1_l = torch.mul(diag_1_l, alpha)\n",
    "    diag_ni_u = torch.mul(diag_ni_u, alpha)\n",
    "    diag_ni_l = torch.mul(diag_ni_l, alpha)\n",
    "\n",
    "    print(f'ni_u = {diag_ni_u}')\n",
    "    print(f'1_u = {diag_1_u}')\n",
    "    print(f'1_l = {diag_1_l}')\n",
    "    print(f'ni_l = {diag_ni_l}')\n",
    "\n",
    "    #Adjust zeroes\n",
    "    diag_1_u = torch.reshape(diag_1_u, (ni-1,nj))\n",
    "    diag_1_u = torch.cat([torch.zeros(1,nj), diag_1_u], dim=0)\n",
    "    diag_1_u = torch.flatten(diag_1_u.transpose(0,1))\n",
    "\n",
    "    diag_1_l = torch.reshape(diag_1_l, (ni-1,nj))\n",
    "    diag_1_l = torch.cat([diag_1_l, torch.zeros(1,nj)], dim=0)\n",
    "    diag_1_l = torch.flatten(diag_1_l.transpose(0,1))\n",
    "\n",
    "    diag_ni_l = torch.reshape(diag_ni_l, (ni,nj-1))\n",
    "    diag_ni_l = torch.cat([diag_ni_l, torch.zeros(ni,1)], dim=1)\n",
    "    diag_ni_l = torch.flatten(diag_ni_l.transpose(0,1))\n",
    "\n",
    "    diag_ni_u = torch.reshape(diag_ni_u, (ni,nj-1))\n",
    "    diag_ni_u = torch.cat([torch.zeros(ni,1), diag_ni_u], dim=1)\n",
    "    diag_ni_u = torch.flatten(diag_ni_u.transpose(0,1))\n",
    "\n",
    "    if as_tensor:\n",
    "        t = torch.cat([diag_ni_u.reshape((nj,ni)).transpose(0,1).unsqueeze(0),\n",
    "                       diag_1_u.reshape((nj,ni)).transpose(0,1).unsqueeze(0),\n",
    "                       diag_1_l.reshape((nj,ni)).transpose(0,1).unsqueeze(0),\n",
    "                       diag_ni_l.reshape((nj,ni)).transpose(0,1).unsqueeze(0)],\n",
    "                       dim=0)\n",
    "        return t\n",
    "\n",
    "    n_diag = ni*nj\n",
    "    diag = [1.]*n_diag\n",
    "    diag = torch.tensor(diag).float()\n",
    "\n",
    "    m = torch.zeros((n_diag,n_diag))\n",
    "    m = m + torch.diag_embed(diag)\n",
    "    m[1:,:-1] = m[1:,:-1] + torch.diag_embed(diag_1_l[:-1])\n",
    "    m[:-1,1:] = m[:-1,1:] + torch.diag_embed(diag_1_u[1:])\n",
    "    m[ni:,:-ni] = m[ni:,:-ni] + torch.diag_embed(diag_ni_l[:-ni])\n",
    "    m[:-ni,ni:] = m[:-ni,ni:] + torch.diag_embed(diag_ni_u[ni:])\n",
    "\n",
    "    return m\n",
    "\n",
    "def one():\n",
    "    return 1\n",
    "\n",
    "m = make_matrix(\n",
    "    number_generator=random.uniform,\n",
    "    args={'a':-1,'b':3},\n",
    "    # one,\n",
    "    grid_size=(2,3),\n",
    "    off_diagonal_abs_mean=2,\n",
    "    as_tensor=True,\n",
    "    symmetric=False)\n",
    "m"
   ]
  },
  {
   "cell_type": "code",
   "execution_count": null,
   "metadata": {},
   "outputs": [],
   "source": []
  },
  {
   "cell_type": "code",
   "execution_count": null,
   "metadata": {},
   "outputs": [],
   "source": []
  },
  {
   "cell_type": "code",
   "execution_count": null,
   "metadata": {},
   "outputs": [],
   "source": []
  }
 ],
 "metadata": {
  "kernelspec": {
   "display_name": ".venv",
   "language": "python",
   "name": "python3"
  },
  "language_info": {
   "codemirror_mode": {
    "name": "ipython",
    "version": 3
   },
   "file_extension": ".py",
   "mimetype": "text/x-python",
   "name": "python",
   "nbconvert_exporter": "python",
   "pygments_lexer": "ipython3",
   "version": "3.12.2"
  }
 },
 "nbformat": 4,
 "nbformat_minor": 2
}
