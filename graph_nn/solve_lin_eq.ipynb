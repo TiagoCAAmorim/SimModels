{
 "cells": [
  {
   "cell_type": "markdown",
   "metadata": {},
   "source": [
    "# CNN to solve a multiband linear equation system"
   ]
  },
  {
   "cell_type": "code",
   "execution_count": 1,
   "metadata": {},
   "outputs": [],
   "source": [
    "import random\n",
    "import numpy as np\n",
    "import pandas as pd\n",
    "import torch\n",
    "import torch.nn as nn\n",
    "# import torch.nn.functional as F\n",
    "# from torch.utils.data import Dataset, DataLoader\n",
    "\n",
    "# from sklearn.model_selection import train_test_split\n",
    "import matplotlib.pyplot as plt"
   ]
  },
  {
   "cell_type": "markdown",
   "metadata": {},
   "source": [
    "## Samples Generator"
   ]
  },
  {
   "cell_type": "code",
   "execution_count": 2,
   "metadata": {},
   "outputs": [],
   "source": [
    "def tensor2matrix(t):\n",
    "    ni, nj = t[0].shape\n",
    "\n",
    "    diag_ni_u = torch.flatten(t[0].transpose(0,1))\n",
    "    diag_1_u = torch.flatten(t[1].transpose(0,1))\n",
    "    diag_1_l = torch.flatten(t[2].transpose(0,1))\n",
    "    diag_ni_l = torch.flatten(t[3].transpose(0,1))\n",
    "\n",
    "    n_diag = ni*nj\n",
    "    diag = [1.]*n_diag\n",
    "    diag = torch.tensor(diag).float()\n",
    "\n",
    "    m = torch.zeros((n_diag,n_diag))\n",
    "    m = m + torch.diag_embed(diag)\n",
    "    m[1:,:-1] = m[1:,:-1] + torch.diag_embed(diag_1_l[:-1])\n",
    "    m[:-1,1:] = m[:-1,1:] + torch.diag_embed(diag_1_u[1:])\n",
    "    m[ni:,:-ni] = m[ni:,:-ni] + torch.diag_embed(diag_ni_l[:-ni])\n",
    "    m[:-ni,ni:] = m[:-ni,ni:] + torch.diag_embed(diag_ni_u[ni:])\n",
    "\n",
    "    return m\n",
    "\n",
    "def make_tensor(number_generator,\n",
    "                args={},\n",
    "                symmetric=True,\n",
    "                off_diagonal_abs_mean=0.5,\n",
    "                grid_size=(5, 5)):\n",
    "\n",
    "    #Generate values\n",
    "    ni, nj = grid_size\n",
    "    n_diag_1 = (ni-1)*nj\n",
    "    n_diag_ni = ni*(nj-1)\n",
    "\n",
    "    diag_1_u = [number_generator(**args) for _ in range(n_diag_1)]\n",
    "    diag_ni_u = [number_generator(**args) for _ in range(n_diag_ni)]\n",
    "\n",
    "    if symmetric:\n",
    "        diag_1_l = diag_1_u\n",
    "        diag_ni_l = diag_ni_u\n",
    "    else:\n",
    "        diag_1_l = [number_generator(**args) for _ in range(n_diag_1)]\n",
    "        diag_ni_l = [number_generator(**args) for _ in range(n_diag_ni)]\n",
    "\n",
    "    #To tensor\n",
    "    diag_1_u = torch.tensor(diag_1_u).float()\n",
    "    diag_1_l = torch.tensor(diag_1_l).float()\n",
    "    diag_ni_u = torch.tensor(diag_ni_u).float()\n",
    "    diag_ni_l = torch.tensor(diag_ni_l).float()\n",
    "\n",
    "    #Scale off main diagonal\n",
    "    off_diagonal = torch.cat([diag_ni_u, diag_1_u, diag_1_l, diag_ni_l])\n",
    "    off_diagonal = torch.abs(off_diagonal)\n",
    "    mean_abs = torch.mean(off_diagonal)\n",
    "    alpha = off_diagonal_abs_mean / mean_abs\n",
    "    diag_1_u = torch.mul(diag_1_u, alpha)\n",
    "    diag_1_l = torch.mul(diag_1_l, alpha)\n",
    "    diag_ni_u = torch.mul(diag_ni_u, alpha)\n",
    "    diag_ni_l = torch.mul(diag_ni_l, alpha)\n",
    "\n",
    "    #Adjust zeroes\n",
    "    diag_1_u = torch.reshape(diag_1_u, (ni-1,nj))\n",
    "    diag_1_u = torch.cat([torch.zeros(1,nj), diag_1_u], dim=0)\n",
    "\n",
    "    diag_1_l = torch.reshape(diag_1_l, (ni-1,nj))\n",
    "    diag_1_l = torch.cat([diag_1_l, torch.zeros(1,nj)], dim=0)\n",
    "\n",
    "    diag_ni_l = torch.reshape(diag_ni_l, (ni,nj-1))\n",
    "    diag_ni_l = torch.cat([diag_ni_l, torch.zeros(ni,1)], dim=1)\n",
    "\n",
    "    diag_ni_u = torch.reshape(diag_ni_u, (ni,nj-1))\n",
    "    diag_ni_u = torch.cat([torch.zeros(ni,1), diag_ni_u], dim=1)\n",
    "\n",
    "    t = torch.cat([diag_ni_u.unsqueeze(0),\n",
    "                    diag_1_u.unsqueeze(0),\n",
    "                    diag_1_l.unsqueeze(0),\n",
    "                    diag_ni_l.unsqueeze(0)],\n",
    "                    dim=0)\n",
    "    return t"
   ]
  },
  {
   "cell_type": "code",
   "execution_count": 3,
   "metadata": {},
   "outputs": [],
   "source": [
    "def get_sample(number_generator,\n",
    "               args={},\n",
    "               symmetric=True,\n",
    "               off_diagonal_abs_mean=0.5,\n",
    "               grid_size=(5, 5)):\n",
    "\n",
    "    A = make_tensor(number_generator=number_generator,\n",
    "                    args=args,\n",
    "                    symmetric=symmetric,\n",
    "                    off_diagonal_abs_mean=off_diagonal_abs_mean,\n",
    "                    grid_size=grid_size)\n",
    "\n",
    "    ni, nj = grid_size\n",
    "    n_diag = ni*nj\n",
    "    x_true = [number_generator(**args) for _ in range(n_diag)]\n",
    "    x_true = torch.tensor(x_true).float()\n",
    "\n",
    "    A_mat = tensor2matrix(A)\n",
    "    b = torch.matmul(A_mat, x_true)\n",
    "    b = torch.reshape(b, (nj,ni)).transpose(0,1)\n",
    "\n",
    "    X = torch.cat([A, b.unsqueeze(0)], dim=0)\n",
    "    y = torch.reshape(x_true, (nj,ni)).transpose(0,1)\n",
    "    return (X, y)"
   ]
  },
  {
   "cell_type": "code",
   "execution_count": 4,
   "metadata": {},
   "outputs": [],
   "source": [
    "def check_sample(X, y, result='tensor', print_cond_number=False):\n",
    "\n",
    "    def _error_from_y(X,y):\n",
    "        custom_weights = np.array([\n",
    "            [[0, 0, 0], [0, 1, 0], [0, 0, 0]],\n",
    "            [[0, 0, 0], [0, 0, 1], [0, 0, 0]],\n",
    "            [[0, 0, 0], [0, 0, 0], [0, 1, 0]],\n",
    "            [[0, 1, 0], [0, 0, 0], [0, 0, 0]],\n",
    "            [[0, 0, 0], [1, 0, 0], [0, 0, 0]],\n",
    "            ], dtype=np.float32)\n",
    "        custom_weights_tensor = torch.tensor(custom_weights).unsqueeze(0)  # Add batch dimensions\n",
    "        conv_layer = nn.Conv2d(in_channels=5, out_channels=1, kernel_size=3, stride=1, padding=1, bias=False)\n",
    "        conv_layer.weight = nn.Parameter(custom_weights_tensor, requires_grad=False)\n",
    "\n",
    "        ni, nj = X[0].shape\n",
    "        X_ = torch.cat([torch.ones((ni,nj)).unsqueeze(0), X[:4]])\n",
    "        residuals = conv_layer(X_ * y) - X[-1]\n",
    "        return residuals\n",
    "\n",
    "    def _error_from_solve(X):\n",
    "        A = tensor2matrix(X[:4])\n",
    "        b = torch.flatten(X[-1].transpose(0,1))\n",
    "        y_aprox = np.linalg.solve(A, b)\n",
    "        y_aprox = torch.tensor(y_aprox)\n",
    "        residuals = torch.matmul(A, y_aprox) - b\n",
    "        return residuals, y_aprox\n",
    "\n",
    "    def _get_result(output_tensor):\n",
    "        if result == 'tensor':\n",
    "            return output_tensor\n",
    "        if result == 'sum_abs':\n",
    "            return float(torch.sum(torch.abs(output_tensor)))\n",
    "        if result == 'max':\n",
    "            return float(torch.max(torch.abs(output_tensor)))\n",
    "        if result == 'sum2':\n",
    "            return float(torch.sum(torch.square(output_tensor)))\n",
    "        raise ValueError(f'Invalid option: {result}.')\n",
    "\n",
    "\n",
    "    if print_cond_number:\n",
    "        A = tensor2matrix(X[:4])\n",
    "        cond_num = np.linalg.cond(A)\n",
    "        print(f'Matrix condition number: {cond_num:0.4g}')\n",
    "    residuals = _error_from_y(X,y)\n",
    "    print(f'Result using provided y: {_get_result(residuals):0.4g}')\n",
    "    residuals, y_aprox = _error_from_solve(X)\n",
    "    print(f'Result using numpy calculated y: {_get_result(residuals):0.4g}')\n",
    "    y_ = torch.flatten(y.transpose(0,1))\n",
    "    print(f'Diffence in y vectors: {_get_result(y_ - y_aprox):0.4g}')"
   ]
  },
  {
   "cell_type": "code",
   "execution_count": 5,
   "metadata": {},
   "outputs": [],
   "source": [
    "ni, nj = 100, 100\n",
    "number_generator = random.uniform\n",
    "args = {'a':-1,'b':3}"
   ]
  },
  {
   "cell_type": "code",
   "execution_count": 6,
   "metadata": {},
   "outputs": [
    {
     "name": "stdout",
     "output_type": "stream",
     "text": [
      "torch.Size([4, 100, 100])\n",
      "torch.Size([10000, 10000])\n"
     ]
    }
   ],
   "source": [
    "m = make_tensor(\n",
    "    number_generator=number_generator,\n",
    "    args=args,\n",
    "    grid_size=(ni,nj),\n",
    "    off_diagonal_abs_mean=2,\n",
    "    symmetric=False)\n",
    "print(m.shape)\n",
    "print(tensor2matrix(m).shape)"
   ]
  },
  {
   "cell_type": "code",
   "execution_count": 7,
   "metadata": {},
   "outputs": [
    {
     "name": "stdout",
     "output_type": "stream",
     "text": [
      "torch.Size([5, 100, 100])\n",
      "torch.Size([100, 100])\n"
     ]
    }
   ],
   "source": [
    "X, y = get_sample(\n",
    "    number_generator=number_generator,\n",
    "    args=args,\n",
    "    # one,\n",
    "    grid_size=(ni,nj),\n",
    "    off_diagonal_abs_mean=0.2,\n",
    "    symmetric=False)\n",
    "print(X.shape)\n",
    "print(y.shape)"
   ]
  },
  {
   "cell_type": "code",
   "execution_count": 8,
   "metadata": {},
   "outputs": [
    {
     "name": "stdout",
     "output_type": "stream",
     "text": [
      "Result using provided y: 4.768e-07\n",
      "Result using numpy calculated y: 4.768e-07\n",
      "Diffence in y vectors: 9.537e-07\n"
     ]
    }
   ],
   "source": [
    "check_sample(X,y, 'max')"
   ]
  },
  {
   "cell_type": "code",
   "execution_count": null,
   "metadata": {},
   "outputs": [],
   "source": []
  }
 ],
 "metadata": {
  "kernelspec": {
   "display_name": ".venv",
   "language": "python",
   "name": "python3"
  },
  "language_info": {
   "codemirror_mode": {
    "name": "ipython",
    "version": 3
   },
   "file_extension": ".py",
   "mimetype": "text/x-python",
   "name": "python",
   "nbconvert_exporter": "python",
   "pygments_lexer": "ipython3",
   "version": "3.12.2"
  }
 },
 "nbformat": 4,
 "nbformat_minor": 2
}
