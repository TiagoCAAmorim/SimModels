{
 "cells": [
  {
   "cell_type": "markdown",
   "metadata": {},
   "source": [
    "# Extract Sub Grids\n",
    "\n",
    "Read grid files and generate various subsets."
   ]
  },
  {
   "cell_type": "code",
   "execution_count": 30,
   "metadata": {},
   "outputs": [],
   "source": [
    "import sys\n",
    "from pathlib import Path\n",
    "import numpy as np\n",
    "import pandas as pd  # pylint: disable=import-error\n",
    "from tqdm import tqdm\n",
    "\n",
    "sys.path.insert(0, '../python')\n",
    "from simpython.cmg import gridfile  # type: ignore # pylint: disable=import-error,wrong-import-position"
   ]
  },
  {
   "cell_type": "markdown",
   "metadata": {},
   "source": [
    "## Options"
   ]
  },
  {
   "cell_type": "code",
   "execution_count": 31,
   "metadata": {},
   "outputs": [],
   "source": [
    "def list_files(folder_path):\n",
    "    \"\"\" List files names in folder \"\"\"\n",
    "    try:\n",
    "        folder_path = Path(folder_path)\n",
    "        filenames = [file for file in folder_path.iterdir() if file.is_file()]\n",
    "        filenames.sort()\n",
    "        return filenames\n",
    "    except FileNotFoundError:\n",
    "        print(f\"Folder '{folder_path}' not found.\")\n",
    "        return []"
   ]
  },
  {
   "cell_type": "code",
   "execution_count": 32,
   "metadata": {},
   "outputs": [],
   "source": [
    "geo_folder_path = '../Unisim_iv_2024/grid/2024/prior'\n",
    "geo_folder_path = Path(geo_folder_path)"
   ]
  },
  {
   "cell_type": "code",
   "execution_count": 33,
   "metadata": {},
   "outputs": [],
   "source": [
    "options = {\n",
    "    'ni': 47,\n",
    "    'nj': 39,\n",
    "    'nk': 291,\n",
    "    'file_names': ['PERMI', 'PERMJ', 'PERMK', 'POR'],\n",
    "    'index': [1, 10, 11, 47, 99],\n",
    "    'subgrids': [],\n",
    "    'output_folder': 'grid2d'\n",
    "}\n",
    "\n",
    "for k in range(41,54):\n",
    "    options['subgrids'].append( (33,37,12,16,k,k) )\n",
    "for k in range(75,96):\n",
    "    options['subgrids'].append( (33,37,12,16,k,k) )\n",
    "for k in range(206,224):\n",
    "    options['subgrids'].append( (17,21,19,23,k,k) )\n",
    "for k in range(229,270):\n",
    "    options['subgrids'].append( (17,21,19,23,k,k) )"
   ]
  },
  {
   "cell_type": "markdown",
   "metadata": {},
   "source": [
    "## Main Functions"
   ]
  },
  {
   "cell_type": "code",
   "execution_count": 34,
   "metadata": {},
   "outputs": [],
   "source": [
    "def n2ijk(n):\n",
    "    ni = options['ni']\n",
    "    nj = options['nj']\n",
    "    # nk = options['nk']\n",
    "\n",
    "    k = int(n/(ni*nj)) + 1\n",
    "    j = int( (n/ni - (k-1)*nj)) + 1\n",
    "    i = n - (k-1)*ni*nj - (j-1)*ni + 1\n",
    "    return i,j,k\n",
    "\n",
    "def ijk2n(i,j,k):\n",
    "    ni = options['ni']\n",
    "    nj = options['nj']\n",
    "    # nk = options['nk']\n",
    "\n",
    "    return (k-1)*ni*nj + (j-1)*ni + i-1\n",
    "\n",
    "def get_value(values, i,j=None,k=None):\n",
    "    if j is None:\n",
    "        return values[i]\n",
    "    elif k is not None:\n",
    "        return values[k-1,j-1,i-1]\n",
    "    raise ValueError('Invalid option!')"
   ]
  },
  {
   "cell_type": "code",
   "execution_count": 35,
   "metadata": {},
   "outputs": [],
   "source": [
    "def create_sub_grid(file_path, output_file_path, range_):\n",
    "    grid = gridfile.GridFile(file_path=file_path)\n",
    "\n",
    "    ni = options['ni']\n",
    "    nj = options['nj']\n",
    "    nk = options['nk']\n",
    "\n",
    "    if grid.get_number_values() != ni*nj*nk:\n",
    "        msg = f'Size mismatch: Values read = {grid.get_number_values()}.'\n",
    "        msg += f' Values expected = {ni*nj*nk}.'\n",
    "        raise ValueError(msg)\n",
    "\n",
    "    values = np.array(grid.get_values())\n",
    "    values_3d = values.reshape(nk, nj,-1)\n",
    "\n",
    "    def get_subgrid(range_):\n",
    "        i1, i2, j1, j2, k1, k2 = range_\n",
    "        i1 -= 1\n",
    "        j1 -= 1\n",
    "        k1 -= 1\n",
    "        return values_3d[k1:k2, j1:j2, i1:i2]\n",
    "\n",
    "    def write_grid(output_file_path, values, comments):\n",
    "        gridfile.GridFile.write_(\n",
    "            output_file_path=output_file_path,\n",
    "            values=values.reshape(-1),\n",
    "            keyword=grid.get_keyword(),\n",
    "            comments=comments)\n",
    "\n",
    "    i1, i2, j1, j2, k1, k2 = range_\n",
    "    comments = f'{file_path.name} subgrid: [{i1}:{i2},{j1}:{j2},{k1}:{k2}]'\n",
    "\n",
    "    write_grid(\n",
    "        output_file_path=output_file_path,\n",
    "        values=get_subgrid(range_),\n",
    "        comments=comments)"
   ]
  },
  {
   "cell_type": "code",
   "execution_count": 36,
   "metadata": {},
   "outputs": [
    {
     "name": "stderr",
     "output_type": "stream",
     "text": [
      "100%|██████████| 744/744 [03:10<00:00,  3.91it/s]\n"
     ]
    }
   ],
   "source": [
    "output_folder_path = Path('./'+options['output_folder'])\n",
    "output_folder_path.mkdir(parents=True, exist_ok=True)\n",
    "\n",
    "pbar = tqdm(total=len(options['index'])*len(options['file_names'])*len(options['subgrids']))\n",
    "for i in options['index']:\n",
    "    for file_name in options['file_names']:\n",
    "        file_path = geo_folder_path/f'{file_name}_{i}.geo'\n",
    "        if not file_path.is_file():\n",
    "            print(f'{file_path} not found!')\n",
    "            pbar.update(len(options['subgrids']))\n",
    "            continue\n",
    "        for k,range_ in enumerate(options['subgrids']):\n",
    "            new_file_name = f'{file_name}_{i}_{k}.geo'\n",
    "            create_sub_grid(\n",
    "                file_path=file_path,\n",
    "                output_file_path=Path('./'+options['output_folder'])/new_file_name,\n",
    "                range_=range_)\n",
    "            pbar.update(1)\n",
    "pbar.close()"
   ]
  }
 ],
 "metadata": {
  "kernelspec": {
   "display_name": ".venv",
   "language": "python",
   "name": "python3"
  },
  "language_info": {
   "codemirror_mode": {
    "name": "ipython",
    "version": 3
   },
   "file_extension": ".py",
   "mimetype": "text/x-python",
   "name": "python",
   "nbconvert_exporter": "python",
   "pygments_lexer": "ipython3",
   "version": "3.12.2"
  }
 },
 "nbformat": 4,
 "nbformat_minor": 2
}
