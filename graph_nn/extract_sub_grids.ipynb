{
 "cells": [
  {
   "cell_type": "markdown",
   "metadata": {},
   "source": [
    "# Extract Sub Grids\n",
    "\n",
    "Read grid files and generate various subsets."
   ]
  },
  {
   "cell_type": "code",
   "execution_count": 4,
   "metadata": {},
   "outputs": [],
   "source": [
    "import sys\n",
    "from pathlib import Path\n",
    "import numpy as np\n",
    "from tqdm import tqdm\n",
    "\n",
    "sys.path.insert(0, '../python')\n",
    "from simpython.cmg import gridfile  # type: ignore # pylint: disable=import-error,wrong-import-position\n",
    "from simpython.common import file_utils  # type: ignore # pylint: disable=import-error,wrong-import-position"
   ]
  },
  {
   "cell_type": "code",
   "execution_count": 9,
   "metadata": {},
   "outputs": [
    {
     "data": {
      "text/html": [
       "<div>\n",
       "<style scoped>\n",
       "    .dataframe tbody tr th:only-of-type {\n",
       "        vertical-align: middle;\n",
       "    }\n",
       "\n",
       "    .dataframe tbody tr th {\n",
       "        vertical-align: top;\n",
       "    }\n",
       "\n",
       "    .dataframe thead th {\n",
       "        text-align: right;\n",
       "    }\n",
       "</style>\n",
       "<table border=\"1\" class=\"dataframe\">\n",
       "  <thead>\n",
       "    <tr style=\"text-align: right;\">\n",
       "      <th></th>\n",
       "      <th>0</th>\n",
       "      <th>1</th>\n",
       "      <th>2</th>\n",
       "    </tr>\n",
       "  </thead>\n",
       "  <tbody>\n",
       "    <tr>\n",
       "      <th>0</th>\n",
       "      <td>1</td>\n",
       "      <td>2</td>\n",
       "      <td>3</td>\n",
       "    </tr>\n",
       "    <tr>\n",
       "      <th>1</th>\n",
       "      <td>4</td>\n",
       "      <td>5</td>\n",
       "      <td>6</td>\n",
       "    </tr>\n",
       "  </tbody>\n",
       "</table>\n",
       "</div>"
      ],
      "text/plain": [
       "   0  1  2\n",
       "0  1  2  3\n",
       "1  4  5  6"
      ]
     },
     "execution_count": 9,
     "metadata": {},
     "output_type": "execute_result"
    }
   ],
   "source": [
    "import pandas as pd\n",
    "\n",
    "df = pd.DataFrame([[1,2,3],[4,5,6]])\n",
    "\n",
    "df"
   ]
  },
  {
   "cell_type": "code",
   "execution_count": 18,
   "metadata": {},
   "outputs": [],
   "source": [
    "Path('./asd#!:\\\\\"@#$%¨&*()////ddd.rst').parent.mkdir(parents=True, exist_ok=True)"
   ]
  },
  {
   "cell_type": "markdown",
   "metadata": {},
   "source": [
    "## Options"
   ]
  },
  {
   "cell_type": "code",
   "execution_count": 19,
   "metadata": {},
   "outputs": [],
   "source": [
    "def list_files(folder_path):\n",
    "    \"\"\" List files names in folder \"\"\"\n",
    "    try:\n",
    "        folder_path = Path(folder_path)\n",
    "        filenames = [file for file in folder_path.iterdir() if file.is_file()]\n",
    "        filenames.sort()\n",
    "        return filenames\n",
    "    except FileNotFoundError:\n",
    "        print(f\"Folder '{folder_path}' not found.\")\n",
    "        return []"
   ]
  },
  {
   "cell_type": "code",
   "execution_count": 20,
   "metadata": {},
   "outputs": [],
   "source": [
    "geo_folder_path = '../Unisim_iv_2024/grid/2024/prior'\n",
    "geo_folder_path = Path(geo_folder_path)"
   ]
  },
  {
   "cell_type": "markdown",
   "metadata": {},
   "source": [
    "### 2D"
   ]
  },
  {
   "cell_type": "code",
   "execution_count": 21,
   "metadata": {},
   "outputs": [],
   "source": [
    "options = {\n",
    "    'ni': 47,\n",
    "    'nj': 39,\n",
    "    'nk': 291,\n",
    "    'file_names': ['PERMI', 'PERMJ', 'PERMK', 'POR'],\n",
    "    'index': [1, 10, 11, 47, 99],\n",
    "    'subgrids': [],\n",
    "    'output_folder': '2d/grid'\n",
    "}\n",
    "\n",
    "for k in range(41,54):\n",
    "    options['subgrids'].append( (33,37,12,16,k,k) )\n",
    "for k in range(75,96):\n",
    "    options['subgrids'].append( (33,37,12,16,k,k) )\n",
    "for k in range(206,224):\n",
    "    options['subgrids'].append( (17,21,19,23,k,k) )\n",
    "for k in range(229,270):\n",
    "    options['subgrids'].append( (17,21,19,23,k,k) )"
   ]
  },
  {
   "cell_type": "markdown",
   "metadata": {},
   "source": [
    "#### Tests"
   ]
  },
  {
   "cell_type": "code",
   "execution_count": 22,
   "metadata": {},
   "outputs": [],
   "source": [
    "options = {\n",
    "    'ni': 47,\n",
    "    'nj': 39,\n",
    "    'nk': 291,\n",
    "    'file_names': ['PERMI', 'PERMJ', 'PERMK', 'POR'],\n",
    "    'index': [27, 14],\n",
    "    'subgrids': [\n",
    "        (16,20,11,15,51,51),\n",
    "        (29,33,17,21,51,51),\n",
    "        (29,33,17,21,84,84),\n",
    "        (14,18,22,26,84,84)\n",
    "    ],\n",
    "    'output_folder': '2d_test/grid'\n",
    "}"
   ]
  },
  {
   "cell_type": "markdown",
   "metadata": {},
   "source": [
    "## Main Functions"
   ]
  },
  {
   "cell_type": "code",
   "execution_count": 23,
   "metadata": {},
   "outputs": [],
   "source": [
    "def n2ijk(n):\n",
    "    ni = options['ni']\n",
    "    nj = options['nj']\n",
    "    # nk = options['nk']\n",
    "\n",
    "    k = int(n/(ni*nj)) + 1\n",
    "    j = int( (n/ni - (k-1)*nj)) + 1\n",
    "    i = n - (k-1)*ni*nj - (j-1)*ni + 1\n",
    "    return i,j,k\n",
    "\n",
    "def ijk2n(i,j,k):\n",
    "    ni = options['ni']\n",
    "    nj = options['nj']\n",
    "    # nk = options['nk']\n",
    "\n",
    "    return (k-1)*ni*nj + (j-1)*ni + i-1\n",
    "\n",
    "def get_value(values, i,j=None,k=None):\n",
    "    if j is None:\n",
    "        return values[i]\n",
    "    elif k is not None:\n",
    "        return values[k-1,j-1,i-1]\n",
    "    raise ValueError('Invalid option!')"
   ]
  },
  {
   "cell_type": "code",
   "execution_count": 24,
   "metadata": {},
   "outputs": [],
   "source": [
    "def create_sub_grid(file_path, output_file_path, range_):\n",
    "    grid = gridfile.GridFile(file_path=file_path)\n",
    "\n",
    "    ni = options['ni']\n",
    "    nj = options['nj']\n",
    "    nk = options['nk']\n",
    "\n",
    "    if grid.get_number_values() != ni*nj*nk:\n",
    "        msg = f'Size mismatch: Values read = {grid.get_number_values()}.'\n",
    "        msg += f' Values expected = {ni*nj*nk}.'\n",
    "        raise ValueError(msg)\n",
    "\n",
    "    values = np.array(grid.get_values())\n",
    "    values_3d = values.reshape(nk, nj,-1)\n",
    "\n",
    "    def get_subgrid(range_):\n",
    "        i1, i2, j1, j2, k1, k2 = range_\n",
    "        i1 -= 1\n",
    "        j1 -= 1\n",
    "        k1 -= 1\n",
    "        return values_3d[k1:k2, j1:j2, i1:i2]\n",
    "\n",
    "    def write_grid(output_file_path, values, comments):\n",
    "        gridfile.GridFile.write_(\n",
    "            output_file_path=output_file_path,\n",
    "            values=values.reshape(-1),\n",
    "            keyword=grid.get_keyword(),\n",
    "            comments=comments)\n",
    "\n",
    "    i1, i2, j1, j2, k1, k2 = range_\n",
    "    comments = f'** {file_path.name} subgrid: [{i1}:{i2},{j1}:{j2},{k1}:{k2}]'\n",
    "\n",
    "    write_grid(\n",
    "        output_file_path=output_file_path,\n",
    "        values=get_subgrid(range_),\n",
    "        comments=comments)"
   ]
  },
  {
   "cell_type": "code",
   "execution_count": 25,
   "metadata": {},
   "outputs": [
    {
     "name": "stderr",
     "output_type": "stream",
     "text": [
      "100%|██████████| 32/32 [00:08<00:00,  3.82it/s]\n"
     ]
    }
   ],
   "source": [
    "output_folder_path = Path('./'+options['output_folder'])\n",
    "output_folder_path.mkdir(parents=True, exist_ok=True)\n",
    "\n",
    "pbar = tqdm(total=len(options['index'])*len(options['file_names'])*len(options['subgrids']))\n",
    "for i in options['index']:\n",
    "    for file_name in options['file_names']:\n",
    "        file_path = geo_folder_path/f'{file_name}_{i}.geo'\n",
    "        if not file_path.is_file():\n",
    "            print(f'{file_path} not found!')\n",
    "            pbar.update(len(options['subgrids']))\n",
    "            continue\n",
    "        for k,range_ in enumerate(options['subgrids']):\n",
    "            new_file_name = f'{file_name}_{i}_{k}.geo'\n",
    "            create_sub_grid(\n",
    "                file_path=file_path,\n",
    "                output_file_path=output_folder_path/new_file_name,\n",
    "                range_=range_)\n",
    "            pbar.update(1)\n",
    "pbar.close()"
   ]
  },
  {
   "cell_type": "code",
   "execution_count": 26,
   "metadata": {},
   "outputs": [],
   "source": [
    "output_folder_path = Path('./'+options['output_folder'])\n",
    "output_folder_path.mkdir(parents=True, exist_ok=True)\n",
    "\n",
    "file_utils.zip_files(\n",
    "        folder_path=output_folder_path,\n",
    "        extensions=['.geo'],\n",
    "        file_name='geo_files',\n",
    "        delete_original=True)"
   ]
  }
 ],
 "metadata": {
  "kernelspec": {
   "display_name": ".venv",
   "language": "python",
   "name": "python3"
  },
  "language_info": {
   "codemirror_mode": {
    "name": "ipython",
    "version": 3
   },
   "file_extension": ".py",
   "mimetype": "text/x-python",
   "name": "python",
   "nbconvert_exporter": "python",
   "pygments_lexer": "ipython3",
   "version": "3.10.12"
  }
 },
 "nbformat": 4,
 "nbformat_minor": 2
}
